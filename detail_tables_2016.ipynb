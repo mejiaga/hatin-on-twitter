{
 "cells": [
  {
   "cell_type": "code",
   "execution_count": 1,
   "metadata": {
    "collapsed": true
   },
   "outputs": [],
   "source": [
    "import pandas as pd\n",
    "import requests as req\n",
    "import json\n",
    "import us\n",
    "from census import Census\n",
    "from us import states"
   ]
  },
  {
   "cell_type": "code",
   "execution_count": 2,
   "metadata": {
    "collapsed": true
   },
   "outputs": [],
   "source": [
    "key = open(\"key.txt\").read()"
   ]
  },
  {
   "cell_type": "code",
   "execution_count": 3,
   "metadata": {
    "collapsed": true
   },
   "outputs": [],
   "source": [
    "# Numbers associated with each state to run through get requests\n",
    "state_nums = ['01', '02', '03', '04', '05', '06', '07', '08', '09', '10', '11', '12', '13', '14', '15', '16', '17', '18',\n",
    "             '19', '20', '21', '22', '23', '24', '25', '26', '27', '28', '29', '30','31','32','33','34','35','36','37','38',\n",
    "             '39','40','41','42','43','44','45','46','47','48','49','50','51','52','53','54','55','56']"
   ]
  },
  {
   "cell_type": "code",
   "execution_count": 4,
   "metadata": {
    "collapsed": true
   },
   "outputs": [],
   "source": [
    "# Parameters for male population by state\n",
    "url = \"http://api.census.gov/data/2016/acs/acs1?\"\n",
    "target_get = 'NAME,B01001_002E'\n",
    "target_for = 'state:'"
   ]
  },
  {
   "cell_type": "code",
   "execution_count": 44,
   "metadata": {},
   "outputs": [
    {
     "data": {
      "text/plain": [
       "51"
      ]
     },
     "execution_count": 44,
     "metadata": {},
     "output_type": "execute_result"
    }
   ],
   "source": [
    "# Make a list of state names\n",
    "keys = []\n",
    "\n",
    "for num in state_nums:\n",
    "    \n",
    "    # Build query url\n",
    "    query_url = url+ \"get=\" + target_get + \"&for=\" + target_for + num + \"&key=\" + key\n",
    "    \n",
    "    try:\n",
    "        # Get data\n",
    "        state_data = req.get(query_url).json()\n",
    "        \n",
    "        # Getting state name & appending\n",
    "        name = state_data[1][0]\n",
    "        keys.append(name)\n",
    "    except:\n",
    "        continue\n",
    "        \n",
    "len(keys)"
   ]
  },
  {
   "cell_type": "code",
   "execution_count": 45,
   "metadata": {},
   "outputs": [
    {
     "data": {
      "text/plain": [
       "51"
      ]
     },
     "execution_count": 45,
     "metadata": {},
     "output_type": "execute_result"
    }
   ],
   "source": [
    "# Empty list for male population\n",
    "male_pop = []\n",
    "\n",
    "for num in state_nums:\n",
    "    \n",
    "    # Build query url\n",
    "    query_url = url+ \"get=\" + target_get + \"&for=\" + target_for + num + \"&key=\" + key\n",
    "\n",
    "    try:\n",
    "        # Get data\n",
    "        state_data = req.get(query_url).json()\n",
    "        \n",
    "        # Get male population\n",
    "        pop = state_data[1][1]\n",
    "        male_pop.append(pop)\n",
    "    except:\n",
    "        continue\n",
    "        \n",
    "len(male_pop)"
   ]
  },
  {
   "cell_type": "code",
   "execution_count": 46,
   "metadata": {},
   "outputs": [
    {
     "data": {
      "text/plain": [
       "51"
      ]
     },
     "execution_count": 46,
     "metadata": {},
     "output_type": "execute_result"
    }
   ],
   "source": [
    "# Parameters for female population by state\n",
    "url = \"http://api.census.gov/data/2016/acs/acs1?\"\n",
    "target_get = 'NAME,B01001_026E'\n",
    "target_for = 'state:'\n",
    "\n",
    "# Empty list for female population\n",
    "female_pop = []\n",
    "\n",
    "for num in state_nums:\n",
    "    \n",
    "    # Build query url\n",
    "    query_url = url+ \"get=\" + target_get + \"&for=\" + target_for + num + \"&key=\" + key\n",
    "\n",
    "    try:\n",
    "        # Get data\n",
    "        state_data = req.get(query_url).json()\n",
    "        \n",
    "        # Get male population\n",
    "        pop = state_data[1][1]\n",
    "        female_pop.append(pop)\n",
    "    except:\n",
    "        continue\n",
    "        \n",
    "len(female_pop)"
   ]
  },
  {
   "cell_type": "code",
   "execution_count": 47,
   "metadata": {},
   "outputs": [
    {
     "data": {
      "text/plain": [
       "51"
      ]
     },
     "execution_count": 47,
     "metadata": {},
     "output_type": "execute_result"
    }
   ],
   "source": [
    "# Parameters for white population by state\n",
    "url = \"http://api.census.gov/data/2016/acs/acs1?\"\n",
    "target_get = 'NAME,B01001A_001E'\n",
    "target_for = 'state:'\n",
    "\n",
    "# Empty list for white population\n",
    "white_pop = []\n",
    "\n",
    "for num in state_nums:\n",
    "    \n",
    "    # Build query url\n",
    "    query_url = url+ \"get=\" + target_get + \"&for=\" + target_for + num + \"&key=\" + key\n",
    "\n",
    "    try:\n",
    "        # Get data\n",
    "        state_data = req.get(query_url).json()\n",
    "        \n",
    "        # Get male population\n",
    "        pop = state_data[1][1]\n",
    "        white_pop.append(pop)\n",
    "    except:\n",
    "        continue\n",
    "        \n",
    "len(white_pop)"
   ]
  },
  {
   "cell_type": "code",
   "execution_count": 48,
   "metadata": {},
   "outputs": [
    {
     "data": {
      "text/plain": [
       "51"
      ]
     },
     "execution_count": 48,
     "metadata": {},
     "output_type": "execute_result"
    }
   ],
   "source": [
    "# Parameters for white male population by state\n",
    "url = \"http://api.census.gov/data/2016/acs/acs1?\"\n",
    "target_get = 'NAME,B01001A_002E'\n",
    "target_for = 'state:'\n",
    "\n",
    "# Empty list for white male population\n",
    "white_m_pop = []\n",
    "\n",
    "for num in state_nums:\n",
    "    \n",
    "    # Build query url\n",
    "    query_url = url+ \"get=\" + target_get + \"&for=\" + target_for + num + \"&key=\" + key\n",
    "\n",
    "    try:\n",
    "        # Get data\n",
    "        state_data = req.get(query_url).json()\n",
    "        \n",
    "        # Get male population\n",
    "        pop = state_data[1][1]\n",
    "        white_m_pop.append(pop)\n",
    "    except:\n",
    "        continue\n",
    "        \n",
    "len(white_m_pop)"
   ]
  },
  {
   "cell_type": "code",
   "execution_count": 49,
   "metadata": {},
   "outputs": [
    {
     "data": {
      "text/plain": [
       "51"
      ]
     },
     "execution_count": 49,
     "metadata": {},
     "output_type": "execute_result"
    }
   ],
   "source": [
    "# Parameters for white female population by state\n",
    "url = \"http://api.census.gov/data/2016/acs/acs1?\"\n",
    "target_get = 'NAME,B01001A_017E'\n",
    "target_for = 'state:'\n",
    "\n",
    "# Empty list for white female population\n",
    "white_f_pop = []\n",
    "\n",
    "for num in state_nums:\n",
    "    \n",
    "    # Build query url\n",
    "    query_url = url+ \"get=\" + target_get + \"&for=\" + target_for + num + \"&key=\" + key\n",
    "\n",
    "    try:\n",
    "        # Get data\n",
    "        state_data = req.get(query_url).json()\n",
    "        \n",
    "        # Get male population\n",
    "        pop = state_data[1][1]\n",
    "        white_f_pop.append(pop)\n",
    "    except:\n",
    "        continue\n",
    "        \n",
    "len(white_f_pop)"
   ]
  },
  {
   "cell_type": "code",
   "execution_count": 50,
   "metadata": {},
   "outputs": [
    {
     "data": {
      "text/plain": [
       "51"
      ]
     },
     "execution_count": 50,
     "metadata": {},
     "output_type": "execute_result"
    }
   ],
   "source": [
    "# Parameters for black or african american population by state\n",
    "url = \"http://api.census.gov/data/2016/acs/acs1?\"\n",
    "target_get = 'NAME,B01001B_001E'\n",
    "target_for = 'state:'\n",
    "\n",
    "# Empty list for black or african american population\n",
    "black_pop = []\n",
    "\n",
    "for num in state_nums:\n",
    "    \n",
    "    # Build query url\n",
    "    query_url = url+ \"get=\" + target_get + \"&for=\" + target_for + num + \"&key=\" + key\n",
    "\n",
    "    try:\n",
    "        # Get data\n",
    "        state_data = req.get(query_url).json()\n",
    "        \n",
    "        # Get male population\n",
    "        pop = state_data[1][1]\n",
    "        black_pop.append(pop)\n",
    "    except:\n",
    "        continue\n",
    "        \n",
    "len(black_pop)"
   ]
  },
  {
   "cell_type": "code",
   "execution_count": 51,
   "metadata": {},
   "outputs": [
    {
     "data": {
      "text/plain": [
       "51"
      ]
     },
     "execution_count": 51,
     "metadata": {},
     "output_type": "execute_result"
    }
   ],
   "source": [
    "# Parameters for black or african american male population by state\n",
    "url = \"http://api.census.gov/data/2016/acs/acs1?\"\n",
    "target_get = 'NAME,B01001B_002E'\n",
    "target_for = 'state:'\n",
    "\n",
    "# Empty list for black or african american male population\n",
    "black_m_pop = []\n",
    "\n",
    "for num in state_nums:\n",
    "    \n",
    "    # Build query url\n",
    "    query_url = url+ \"get=\" + target_get + \"&for=\" + target_for + num + \"&key=\" + key\n",
    "\n",
    "    try:\n",
    "        # Get data\n",
    "        state_data = req.get(query_url).json()\n",
    "        \n",
    "        # Get male population\n",
    "        pop = state_data[1][1]\n",
    "        black_m_pop.append(pop)\n",
    "    except:\n",
    "        continue\n",
    "        \n",
    "len(black_m_pop)"
   ]
  },
  {
   "cell_type": "code",
   "execution_count": 52,
   "metadata": {},
   "outputs": [
    {
     "data": {
      "text/plain": [
       "51"
      ]
     },
     "execution_count": 52,
     "metadata": {},
     "output_type": "execute_result"
    }
   ],
   "source": [
    "# Parameters for black or african american female population by state\n",
    "url = \"http://api.census.gov/data/2016/acs/acs1?\"\n",
    "target_get = 'NAME,B01001B_017E'\n",
    "target_for = 'state:'\n",
    "\n",
    "# Empty list for black or african american female population\n",
    "black_f_pop = []\n",
    "\n",
    "for num in state_nums:\n",
    "    \n",
    "    # Build query url\n",
    "    query_url = url+ \"get=\" + target_get + \"&for=\" + target_for + num + \"&key=\" + key\n",
    "\n",
    "    try:\n",
    "        # Get data\n",
    "        state_data = req.get(query_url).json()\n",
    "        \n",
    "        # Get male population\n",
    "        pop = state_data[1][1]\n",
    "        black_f_pop.append(pop)\n",
    "    except:\n",
    "        continue\n",
    "        \n",
    "len(black_f_pop)"
   ]
  },
  {
   "cell_type": "code",
   "execution_count": 53,
   "metadata": {},
   "outputs": [
    {
     "data": {
      "text/plain": [
       "51"
      ]
     },
     "execution_count": 53,
     "metadata": {},
     "output_type": "execute_result"
    }
   ],
   "source": [
    "# Parameters for american indian and alaska native population by state\n",
    "url = \"http://api.census.gov/data/2016/acs/acs1?\"\n",
    "target_get = 'NAME,B01001C_001E'\n",
    "target_for = 'state:'\n",
    "\n",
    "# Empty list for american indian and alaska native population\n",
    "am_indian_pop = []\n",
    "\n",
    "for num in state_nums:\n",
    "    \n",
    "    # Build query url\n",
    "    query_url = url+ \"get=\" + target_get + \"&for=\" + target_for + num + \"&key=\" + key\n",
    "\n",
    "    try:\n",
    "        # Get data\n",
    "        state_data = req.get(query_url).json()\n",
    "        \n",
    "        # Get male population\n",
    "        pop = state_data[1][1]\n",
    "        am_indian_pop.append(pop)\n",
    "    except:\n",
    "        continue\n",
    "        \n",
    "len(am_indian_pop)"
   ]
  },
  {
   "cell_type": "code",
   "execution_count": 54,
   "metadata": {},
   "outputs": [
    {
     "data": {
      "text/plain": [
       "51"
      ]
     },
     "execution_count": 54,
     "metadata": {},
     "output_type": "execute_result"
    }
   ],
   "source": [
    "# Parameters for american indian and alaska native male population by state\n",
    "url = \"http://api.census.gov/data/2016/acs/acs1?\"\n",
    "target_get = 'NAME,B01001C_002E'\n",
    "target_for = 'state:'\n",
    "\n",
    "# Empty list for american indian and alaska native male population\n",
    "am_indian_m_pop = []\n",
    "\n",
    "for num in state_nums:\n",
    "    \n",
    "    # Build query url\n",
    "    query_url = url+ \"get=\" + target_get + \"&for=\" + target_for + num + \"&key=\" + key\n",
    "\n",
    "    try:\n",
    "        # Get data\n",
    "        state_data = req.get(query_url).json()\n",
    "        \n",
    "        # Get male population\n",
    "        pop = state_data[1][1]\n",
    "        am_indian_m_pop.append(pop)\n",
    "    except:\n",
    "        continue\n",
    "        \n",
    "len(am_indian_m_pop)"
   ]
  },
  {
   "cell_type": "code",
   "execution_count": 55,
   "metadata": {},
   "outputs": [
    {
     "data": {
      "text/plain": [
       "51"
      ]
     },
     "execution_count": 55,
     "metadata": {},
     "output_type": "execute_result"
    }
   ],
   "source": [
    "# Parameters for american indian and alaska native female population by state\n",
    "url = \"http://api.census.gov/data/2016/acs/acs1?\"\n",
    "target_get = 'NAME,B01001C_017E'\n",
    "target_for = 'state:'\n",
    "\n",
    "# Empty list for american indian and alaska native female population\n",
    "am_indian_f_pop = []\n",
    "\n",
    "for num in state_nums:\n",
    "    \n",
    "    # Build query url\n",
    "    query_url = url+ \"get=\" + target_get + \"&for=\" + target_for + num + \"&key=\" + key\n",
    "\n",
    "    try:\n",
    "        # Get data\n",
    "        state_data = req.get(query_url).json()\n",
    "        \n",
    "        # Get male population\n",
    "        pop = state_data[1][1]\n",
    "        am_indian_f_pop.append(pop)\n",
    "    except:\n",
    "        continue\n",
    "        \n",
    "len(am_indian_f_pop)"
   ]
  },
  {
   "cell_type": "code",
   "execution_count": 56,
   "metadata": {},
   "outputs": [
    {
     "data": {
      "text/plain": [
       "51"
      ]
     },
     "execution_count": 56,
     "metadata": {},
     "output_type": "execute_result"
    }
   ],
   "source": [
    "# Parameters for asian population by state\n",
    "url = \"http://api.census.gov/data/2016/acs/acs1?\"\n",
    "target_get = 'NAME,B01001D_001E'\n",
    "target_for = 'state:'\n",
    "\n",
    "# Empty list for asian population\n",
    "asian_pop = []\n",
    "\n",
    "for num in state_nums:\n",
    "    \n",
    "    # Build query url\n",
    "    query_url = url+ \"get=\" + target_get + \"&for=\" + target_for + num + \"&key=\" + key\n",
    "\n",
    "    try:\n",
    "        # Get data\n",
    "        state_data = req.get(query_url).json()\n",
    "        \n",
    "        # Get male population\n",
    "        pop = state_data[1][1]\n",
    "        asian_pop.append(pop)\n",
    "    except:\n",
    "        continue\n",
    "        \n",
    "len(asian_pop)"
   ]
  },
  {
   "cell_type": "code",
   "execution_count": 57,
   "metadata": {},
   "outputs": [
    {
     "data": {
      "text/plain": [
       "51"
      ]
     },
     "execution_count": 57,
     "metadata": {},
     "output_type": "execute_result"
    }
   ],
   "source": [
    "# Parameters for asian male population by state\n",
    "url = \"http://api.census.gov/data/2016/acs/acs1?\"\n",
    "target_get = 'NAME,B01001D_002E'\n",
    "target_for = 'state:'\n",
    "\n",
    "# Empty list for asian male population\n",
    "asian_m_pop = []\n",
    "\n",
    "for num in state_nums:\n",
    "    \n",
    "    # Build query url\n",
    "    query_url = url+ \"get=\" + target_get + \"&for=\" + target_for + num + \"&key=\" + key\n",
    "\n",
    "    try:\n",
    "        # Get data\n",
    "        state_data = req.get(query_url).json()\n",
    "        \n",
    "        # Get male population\n",
    "        pop = state_data[1][1]\n",
    "        asian_m_pop.append(pop)\n",
    "    except:\n",
    "        continue\n",
    "        \n",
    "len(asian_m_pop)"
   ]
  },
  {
   "cell_type": "code",
   "execution_count": 58,
   "metadata": {},
   "outputs": [
    {
     "data": {
      "text/plain": [
       "51"
      ]
     },
     "execution_count": 58,
     "metadata": {},
     "output_type": "execute_result"
    }
   ],
   "source": [
    "# Parameters for asian female population by state\n",
    "url = \"http://api.census.gov/data/2016/acs/acs1?\"\n",
    "target_get = 'NAME,B01001D_017E'\n",
    "target_for = 'state:'\n",
    "\n",
    "# Empty list for asian female population\n",
    "asian_f_pop = []\n",
    "\n",
    "for num in state_nums:\n",
    "    \n",
    "    # Build query url\n",
    "    query_url = url+ \"get=\" + target_get + \"&for=\" + target_for + num + \"&key=\" + key\n",
    "\n",
    "    try:\n",
    "        # Get data\n",
    "        state_data = req.get(query_url).json()\n",
    "        \n",
    "        # Get male population\n",
    "        pop = state_data[1][1]\n",
    "        asian_f_pop.append(pop)\n",
    "    except:\n",
    "        continue\n",
    "        \n",
    "len(asian_f_pop)"
   ]
  },
  {
   "cell_type": "code",
   "execution_count": 59,
   "metadata": {},
   "outputs": [
    {
     "data": {
      "text/plain": [
       "51"
      ]
     },
     "execution_count": 59,
     "metadata": {},
     "output_type": "execute_result"
    }
   ],
   "source": [
    "# Parameters for native hawaiian and other pacific islander population by state\n",
    "url = \"http://api.census.gov/data/2016/acs/acs1?\"\n",
    "target_get = 'NAME,B01001E_001E'\n",
    "target_for = 'state:'\n",
    "\n",
    "# Empty list for native hawaiian and other pacific islander population\n",
    "hawaiian_native_pop = []\n",
    "\n",
    "for num in state_nums:\n",
    "    \n",
    "    # Build query url\n",
    "    query_url = url+ \"get=\" + target_get + \"&for=\" + target_for + num + \"&key=\" + key\n",
    "\n",
    "    try:\n",
    "        # Get data\n",
    "        state_data = req.get(query_url).json()\n",
    "        \n",
    "        # Get male population\n",
    "        pop = state_data[1][1]\n",
    "        hawaiian_native_pop.append(pop)\n",
    "    except:\n",
    "        continue\n",
    "        \n",
    "len(hawaiian_native_pop)"
   ]
  },
  {
   "cell_type": "code",
   "execution_count": 60,
   "metadata": {},
   "outputs": [
    {
     "data": {
      "text/plain": [
       "51"
      ]
     },
     "execution_count": 60,
     "metadata": {},
     "output_type": "execute_result"
    }
   ],
   "source": [
    "# Parameters for native hawaiian and other pacific islander male population by state\n",
    "url = \"http://api.census.gov/data/2016/acs/acs1?\"\n",
    "target_get = 'NAME,B01001E_002E'\n",
    "target_for = 'state:'\n",
    "\n",
    "# Empty list for native hawaiian and other pacific islander male population\n",
    "hawaiian_native_m_pop = []\n",
    "\n",
    "for num in state_nums:\n",
    "    \n",
    "    # Build query url\n",
    "    query_url = url+ \"get=\" + target_get + \"&for=\" + target_for + num + \"&key=\" + key\n",
    "\n",
    "    try:\n",
    "        # Get data\n",
    "        state_data = req.get(query_url).json()\n",
    "        \n",
    "        # Get male population\n",
    "        pop = state_data[1][1]\n",
    "        hawaiian_native_m_pop.append(pop)\n",
    "    except:\n",
    "        continue\n",
    "        \n",
    "len(hawaiian_native_m_pop)"
   ]
  },
  {
   "cell_type": "code",
   "execution_count": 61,
   "metadata": {},
   "outputs": [
    {
     "data": {
      "text/plain": [
       "51"
      ]
     },
     "execution_count": 61,
     "metadata": {},
     "output_type": "execute_result"
    }
   ],
   "source": [
    "# Parameters for native hawaiian and other pacific islander female population by state\n",
    "url = \"http://api.census.gov/data/2016/acs/acs1?\"\n",
    "target_get = 'NAME,B01001E_017E'\n",
    "target_for = 'state:'\n",
    "\n",
    "# Empty list for native hawaiian and other pacific islander female population\n",
    "hawaiian_native_f_pop = []\n",
    "\n",
    "for num in state_nums:\n",
    "    \n",
    "    # Build query url\n",
    "    query_url = url+ \"get=\" + target_get + \"&for=\" + target_for + num + \"&key=\" + key\n",
    "\n",
    "    try:\n",
    "        # Get data\n",
    "        state_data = req.get(query_url).json()\n",
    "        \n",
    "        # Get male population\n",
    "        pop = state_data[1][1]\n",
    "        hawaiian_native_f_pop.append(pop)\n",
    "    except:\n",
    "        continue\n",
    "        \n",
    "len(hawaiian_native_f_pop)"
   ]
  },
  {
   "cell_type": "code",
   "execution_count": 62,
   "metadata": {},
   "outputs": [
    {
     "data": {
      "text/plain": [
       "51"
      ]
     },
     "execution_count": 62,
     "metadata": {},
     "output_type": "execute_result"
    }
   ],
   "source": [
    "# Parameters for hispanic or latino population by state\n",
    "url = \"http://api.census.gov/data/2016/acs/acs1?\"\n",
    "target_get = 'NAME,B01001I_001E'\n",
    "target_for = 'state:'\n",
    "\n",
    "# Empty list for hispanic or latino population\n",
    "hispanic_pop = []\n",
    "\n",
    "for num in state_nums:\n",
    "    \n",
    "    # Build query url\n",
    "    query_url = url+ \"get=\" + target_get + \"&for=\" + target_for + num + \"&key=\" + key\n",
    "\n",
    "    try:\n",
    "        # Get data\n",
    "        state_data = req.get(query_url).json()\n",
    "        \n",
    "        # Get male population\n",
    "        pop = state_data[1][1]\n",
    "        hispanic_pop.append(pop)\n",
    "    except:\n",
    "        continue\n",
    "        \n",
    "len(hispanic_pop)"
   ]
  },
  {
   "cell_type": "code",
   "execution_count": 63,
   "metadata": {},
   "outputs": [
    {
     "data": {
      "text/plain": [
       "51"
      ]
     },
     "execution_count": 63,
     "metadata": {},
     "output_type": "execute_result"
    }
   ],
   "source": [
    "# Parameters for hispanic or latino male population by state\n",
    "url = \"http://api.census.gov/data/2016/acs/acs1?\"\n",
    "target_get = 'NAME,B01001I_002E'\n",
    "target_for = 'state:'\n",
    "\n",
    "# Empty list for hispanic or latino male population\n",
    "hispanic_m_pop = []\n",
    "\n",
    "for num in state_nums:\n",
    "    \n",
    "    # Build query url\n",
    "    query_url = url+ \"get=\" + target_get + \"&for=\" + target_for + num + \"&key=\" + key\n",
    "\n",
    "    try:\n",
    "        # Get data\n",
    "        state_data = req.get(query_url).json()\n",
    "        \n",
    "        # Get male population\n",
    "        pop = state_data[1][1]\n",
    "        hispanic_m_pop.append(pop)\n",
    "    except:\n",
    "        continue\n",
    "        \n",
    "len(hispanic_m_pop)"
   ]
  },
  {
   "cell_type": "code",
   "execution_count": 64,
   "metadata": {},
   "outputs": [
    {
     "data": {
      "text/plain": [
       "51"
      ]
     },
     "execution_count": 64,
     "metadata": {},
     "output_type": "execute_result"
    }
   ],
   "source": [
    "# Parameters for hispanic or latino female population by state\n",
    "url = \"http://api.census.gov/data/2016/acs/acs1?\"\n",
    "target_get = 'NAME,B01001I_017E'\n",
    "target_for = 'state:'\n",
    "\n",
    "# Empty list for hispanic or latino female population\n",
    "hispanic_f_pop = []\n",
    "\n",
    "for num in state_nums:\n",
    "    \n",
    "    # Build query url\n",
    "    query_url = url+ \"get=\" + target_get + \"&for=\" + target_for + num + \"&key=\" + key\n",
    "\n",
    "    try:\n",
    "        # Get data\n",
    "        state_data = req.get(query_url).json()\n",
    "        \n",
    "        # Get male population\n",
    "        pop = state_data[1][1]\n",
    "        hispanic_f_pop.append(pop)\n",
    "    except:\n",
    "        continue\n",
    "        \n",
    "len(hispanic_f_pop)"
   ]
  },
  {
   "cell_type": "code",
   "execution_count": 65,
   "metadata": {},
   "outputs": [
    {
     "data": {
      "text/plain": [
       "51"
      ]
     },
     "execution_count": 65,
     "metadata": {},
     "output_type": "execute_result"
    }
   ],
   "source": [
    "# Parameters for population that is a US citizen born in the US\n",
    "url = \"http://api.census.gov/data/2016/acs/acs1?\"\n",
    "target_get = 'NAME,B05001_002E'\n",
    "target_for = 'state:'\n",
    "\n",
    "# Empty list for population that is a US citizen born in the US\n",
    "born_us_pop = []\n",
    "\n",
    "for num in state_nums:\n",
    "    \n",
    "    # Build query url\n",
    "    query_url = url+ \"get=\" + target_get + \"&for=\" + target_for + num + \"&key=\" + key\n",
    "\n",
    "    try:\n",
    "        # Get data\n",
    "        state_data = req.get(query_url).json()\n",
    "        \n",
    "        # Get male population\n",
    "        pop = state_data[1][1]\n",
    "        born_us_pop.append(pop)\n",
    "    except:\n",
    "        continue\n",
    "        \n",
    "len(born_us_pop)"
   ]
  },
  {
   "cell_type": "code",
   "execution_count": 66,
   "metadata": {},
   "outputs": [
    {
     "data": {
      "text/plain": [
       "51"
      ]
     },
     "execution_count": 66,
     "metadata": {},
     "output_type": "execute_result"
    }
   ],
   "source": [
    "# Parameters for population that is a US citizen born abroad to American parents\n",
    "url = \"http://api.census.gov/data/2016/acs/acs1?\"\n",
    "target_get = 'NAME,B05001_004E'\n",
    "target_for = 'state:'\n",
    "\n",
    "# Empty list for population that is a US citizen born abroad to American parents\n",
    "am_parents_pop = []\n",
    "\n",
    "for num in state_nums:\n",
    "    \n",
    "    # Build query url\n",
    "    query_url = url+ \"get=\" + target_get + \"&for=\" + target_for + num + \"&key=\" + key\n",
    "\n",
    "    try:\n",
    "        # Get data\n",
    "        state_data = req.get(query_url).json()\n",
    "        \n",
    "        # Get male population\n",
    "        pop = state_data[1][1]\n",
    "        am_parents_pop.append(pop)\n",
    "    except:\n",
    "        continue\n",
    "        \n",
    "len(am_parents_pop)"
   ]
  },
  {
   "cell_type": "code",
   "execution_count": 67,
   "metadata": {},
   "outputs": [
    {
     "data": {
      "text/plain": [
       "51"
      ]
     },
     "execution_count": 67,
     "metadata": {},
     "output_type": "execute_result"
    }
   ],
   "source": [
    "# Parameters for population that is a US citizen by naturalization\n",
    "url = \"http://api.census.gov/data/2016/acs/acs1?\"\n",
    "target_get = 'NAME,B05001_005E'\n",
    "target_for = 'state:'\n",
    "\n",
    "# Empty list for population that is a US citizen by naturalization\n",
    "us_nat_pop = []\n",
    "\n",
    "for num in state_nums:\n",
    "    \n",
    "    # Build query url\n",
    "    query_url = url+ \"get=\" + target_get + \"&for=\" + target_for + num + \"&key=\" + key\n",
    "\n",
    "    try:\n",
    "        # Get data\n",
    "        state_data = req.get(query_url).json()\n",
    "        \n",
    "        # Get male population\n",
    "        pop = state_data[1][1]\n",
    "        us_nat_pop.append(pop)\n",
    "    except:\n",
    "        continue\n",
    "        \n",
    "len(us_nat_pop)"
   ]
  },
  {
   "cell_type": "code",
   "execution_count": 68,
   "metadata": {},
   "outputs": [
    {
     "data": {
      "text/plain": [
       "51"
      ]
     },
     "execution_count": 68,
     "metadata": {},
     "output_type": "execute_result"
    }
   ],
   "source": [
    "# Parameters for population that is a not US citizen\n",
    "url = \"http://api.census.gov/data/2016/acs/acs1?\"\n",
    "target_get = 'NAME,B05001_006E'\n",
    "target_for = 'state:'\n",
    "\n",
    "# Empty list for population that is a not US citizen\n",
    "not_cit_pop = []\n",
    "\n",
    "for num in state_nums:\n",
    "    \n",
    "    # Build query url\n",
    "    query_url = url+ \"get=\" + target_get + \"&for=\" + target_for + num + \"&key=\" + key\n",
    "\n",
    "    try:\n",
    "        # Get data\n",
    "        state_data = req.get(query_url).json()\n",
    "        \n",
    "        # Get male population\n",
    "        pop = state_data[1][1]\n",
    "        not_cit_pop.append(pop)\n",
    "    except:\n",
    "        continue\n",
    "        \n",
    "len(not_cit_pop)"
   ]
  },
  {
   "cell_type": "code",
   "execution_count": null,
   "metadata": {
    "collapsed": true
   },
   "outputs": [],
   "source": []
  }
 ],
 "metadata": {
  "kernelspec": {
   "display_name": "Python [default]",
   "language": "python",
   "name": "python3"
  },
  "language_info": {
   "codemirror_mode": {
    "name": "ipython",
    "version": 3
   },
   "file_extension": ".py",
   "mimetype": "text/x-python",
   "name": "python",
   "nbconvert_exporter": "python",
   "pygments_lexer": "ipython3",
   "version": "3.6.1"
  }
 },
 "nbformat": 4,
 "nbformat_minor": 2
}
