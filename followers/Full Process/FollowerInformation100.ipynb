{
 "cells": [
  {
   "cell_type": "markdown",
   "metadata": {},
   "source": [
    "# Dependencies"
   ]
  },
  {
   "cell_type": "code",
   "execution_count": 1,
   "metadata": {
    "collapsed": true
   },
   "outputs": [],
   "source": [
    "import tweepy\n",
    "import json\n",
    "import pandas as pd\n",
    "import matplotlib.pyplot as mpl"
   ]
  },
  {
   "cell_type": "markdown",
   "metadata": {},
   "source": [
    "# Twitter API Keys & Auth"
   ]
  },
  {
   "cell_type": "code",
   "execution_count": 2,
   "metadata": {
    "collapsed": true
   },
   "outputs": [],
   "source": [
    "# Twitter API Keys\n",
    "consumer_key = \"TMmoNF4ShPaG4MpftsiHGbx50\"\n",
    "consumer_secret = \"S4yUU9Efd3ZTS7B7j3tyPcRf2QYIZtyiAGJ3pTmU7D7fiecROy\"\n",
    "access_token = \"503080507-mGl2xweaoTaAnkleYsXWQL4vIKwHe6tPdhMbXMbx\"\n",
    "access_token_secret = \"jm9HkG3SLrSjho5I4lanfCaZX8MVtO0bcI1RWbRcWiDWi\"\n",
    "\n",
    "# Setup Tweepy API Authentication\n",
    "auth = tweepy.OAuthHandler(consumer_key, consumer_secret)\n",
    "auth.set_access_token(access_token, access_token_secret)\n",
    "api = tweepy.API(auth, parser=tweepy.parsers.JSONParser(), wait_on_rate_limit = True, wait_on_rate_limit_notify = True)"
   ]
  },
  {
   "cell_type": "markdown",
   "metadata": {},
   "source": [
    "## Test Information"
   ]
  },
  {
   "cell_type": "code",
   "execution_count": 32,
   "metadata": {},
   "outputs": [
    {
     "data": {
      "text/plain": [
       "Index(['rudeboyspurs', 'SIDTHEYid1', 'MeriamSusan', 'shtickler',\n",
       "       'melaniegrant617', 'TalibKweli', 'jsftennis', 'Stormer_DC',\n",
       "       'mariaclausing', 'anniepippins617',\n",
       "       ...\n",
       "       'TockTockTock', 'mutman2025', 'YoursTrulyTheDj', 'JackyJaye', 'OLVOXO',\n",
       "       'parkerrm39', 'GregDmitry', 'montydaman', 'MickMagician',\n",
       "       'BrianHa73775244'],\n",
       "      dtype='object', length=2645)"
      ]
     },
     "execution_count": 32,
     "metadata": {},
     "output_type": "execute_result"
    }
   ],
   "source": [
    "twitter_act = '../filtered_results.csv'\n",
    "screen_name = pd.read_csv(twitter_act)\n",
    "\n",
    "# screen_name = [\"mewriah\"] #also works if you add multiple twitter names to check\n",
    "followers = []\n",
    "follower_count = []\n",
    "\n",
    "individual_screen_name = screen_name[\"screen name\"].value_counts().to_frame().index\n",
    "individual_screen_name\n"
   ]
  },
  {
   "cell_type": "markdown",
   "metadata": {},
   "source": [
    "# Process:\n",
    "## * Loop through list given, get their users, find out how many followers those users have, and find mutual following within list given\n",
    "\n"
   ]
  },
  {
   "cell_type": "code",
   "execution_count": 28,
   "metadata": {
    "scrolled": true
   },
   "outputs": [
    {
     "ename": "NameError",
     "evalue": "name 'lon' is not defined",
     "output_type": "error",
     "traceback": [
      "\u001b[0;31m---------------------------------------------------------------------------\u001b[0m",
      "\u001b[0;31mNameError\u001b[0m                                 Traceback (most recent call last)",
      "\u001b[0;32m<ipython-input-28-cc03484aa3f8>\u001b[0m in \u001b[0;36m<module>\u001b[0;34m()\u001b[0m\n\u001b[1;32m     30\u001b[0m \u001b[0;34m\u001b[0m\u001b[0m\n\u001b[1;32m     31\u001b[0m \u001b[0;31m# followers\u001b[0m\u001b[0;34m\u001b[0m\u001b[0;34m\u001b[0m\u001b[0m\n\u001b[0;32m---> 32\u001b[0;31m \u001b[0mlon\u001b[0m\u001b[0;34m(\u001b[0m\u001b[0;36m822637607066669056\u001b[0m\u001b[0;34m)\u001b[0m\u001b[0;34m\u001b[0m\u001b[0m\n\u001b[0m",
      "\u001b[0;31mNameError\u001b[0m: name 'lon' is not defined"
     ]
    }
   ],
   "source": [
    "# loop through screen names given. ie: screen_name\n",
    "for name in individual_screen_name[0:1]:\n",
    "    try:\n",
    "        # targets given name in the screen names list\n",
    "        followers_id = api.friends_ids(name)\n",
    "\n",
    "        # Loop through all following list of user selected and get the ID's of those users\n",
    "        for tweet in followers_id['ids']:\n",
    "            followers.append(str(tweet))\n",
    "            print(str(tweet))\n",
    "            \n",
    "            \n",
    "#             # convert the twitter id to a screen name by inputing ID into .get_user api\n",
    "#             screen_name_from_id = api.get_user(tweet)\n",
    "\n",
    "#             # if this account has more than X followers, add to list \n",
    "#             if(screen_name_from_id[\"followers_count\"] >= 500000):\n",
    "#                 # Prints the screen name from the ID loop \n",
    "#                 print(screen_name_from_id[\"screen_name\"])\n",
    "#                 print(screen_name_from_id[\"followers_count\"])\n",
    "\n",
    "#                 if screen_name_from_id[\"screen_name\"] not in followers_id:\n",
    "#                     #append to list of followers\n",
    "#                     followers.append(screen_name_from_id[\"screen_name\"])\n",
    "#                     follower_count.append(screen_name_from_id[\"followers_count\"])\n",
    "    except:  \n",
    "        print('error on: ' + str(name))\n",
    "    #get length of list\n",
    "    print(len(followers))\n",
    "\n",
    "followers"
   ]
  },
  {
   "cell_type": "markdown",
   "metadata": {},
   "source": [
    "# Data Frame: Top Followers from test list"
   ]
  },
  {
   "cell_type": "code",
   "execution_count": 5,
   "metadata": {},
   "outputs": [
    {
     "data": {
      "text/plain": [
       "25073877              39\n",
       "822215679726100480    32\n",
       "78523300              22\n",
       "16589206              20\n",
       "813286                20\n",
       "822215673812119553    20\n",
       "471672239             19\n",
       "39344374              19\n",
       "22703645              18\n",
       "50769180              18\n",
       "196168350             18\n",
       "39349894              17\n",
       "759251                16\n",
       "118845216             16\n",
       "41634520              16\n",
       "18643437              16\n",
       "1367531               15\n",
       "72931184              15\n",
       "818876014390603776    15\n",
       "457984599             15\n",
       "52544275              15\n",
       "109065990             15\n",
       "3307670633            15\n",
       "18247062              14\n",
       "29458079              14\n",
       "23022687              14\n",
       "14669951              14\n",
       "313038011             14\n",
       "818910970567344128    14\n",
       "428333                14\n",
       "                      ..\n",
       "275541163              1\n",
       "621434028              1\n",
       "702045357              1\n",
       "1636182698             1\n",
       "2928714930             1\n",
       "836283571              1\n",
       "766220442248028160     1\n",
       "274658488              1\n",
       "808466311110017024     1\n",
       "761345847703371776     1\n",
       "521208966              1\n",
       "2941250715             1\n",
       "2680194549             1\n",
       "19661294               1\n",
       "3346524411             1\n",
       "398288010              1\n",
       "4165954699             1\n",
       "206141203              1\n",
       "18025377               1\n",
       "2269391174             1\n",
       "15244650               1\n",
       "5338342                1\n",
       "66244710               1\n",
       "82549909               1\n",
       "197493910              1\n",
       "2409086971             1\n",
       "2216031384             1\n",
       "391904409              1\n",
       "3049107955             1\n",
       "3370898530             1\n",
       "Length: 95345, dtype: int64"
      ]
     },
     "execution_count": 5,
     "metadata": {},
     "output_type": "execute_result"
    }
   ],
   "source": [
    "topFollowers = pd.DataFrame(\n",
    "        {   \"User\": followers,\n",
    "#             \"Follower Count\": follower_count,\n",
    "            \n",
    "        }\n",
    "    )\n",
    "topFollowers[[\"User\"]] #,\"Follower Count\"\n",
    "new_topFollowers = topFollowers.set_index(['User'])\n",
    "\n",
    "del new_topFollowers.index.name\n",
    "\n",
    "# new_topFollowers[\"Mutual Followers\"] = 0\n",
    "new_topFollowers.index.value_counts()\n",
    "\n",
    "#most popular from following lists\n"
   ]
  },
  {
   "cell_type": "markdown",
   "metadata": {},
   "source": [
    "# Mutual Follower Frequency"
   ]
  },
  {
   "cell_type": "code",
   "execution_count": 6,
   "metadata": {
    "collapsed": true
   },
   "outputs": [],
   "source": [
    "# get number of occurances of each user\n",
    "popular_follow = new_topFollowers.index.value_counts().to_frame().reset_index()\n",
    "popular_follow.head(15)\n",
    "\n",
    "popular_follow.to_csv('follower_frequency.csv', index=False)"
   ]
  },
  {
   "cell_type": "markdown",
   "metadata": {},
   "source": [
    "# Frequency Within News Source List"
   ]
  },
  {
   "cell_type": "code",
   "execution_count": 7,
   "metadata": {},
   "outputs": [
    {
     "ename": "AttributeError",
     "evalue": "'numpy.int64' object has no attribute 'lower'",
     "output_type": "error",
     "traceback": [
      "\u001b[0;31m---------------------------------------------------------------------------\u001b[0m",
      "\u001b[0;31mAttributeError\u001b[0m                            Traceback (most recent call last)",
      "\u001b[0;32m<ipython-input-7-9a5be763d3fe>\u001b[0m in \u001b[0;36m<module>\u001b[0;34m()\u001b[0m\n\u001b[1;32m     10\u001b[0m \u001b[0;32mfor\u001b[0m \u001b[0mx\u001b[0m \u001b[0;32min\u001b[0m \u001b[0mnew_topFollowers\u001b[0m\u001b[0;34m.\u001b[0m\u001b[0mindex\u001b[0m\u001b[0;34m:\u001b[0m\u001b[0;34m\u001b[0m\u001b[0m\n\u001b[1;32m     11\u001b[0m     \u001b[0;31m# if one of the names matches something in our list of news sources:\u001b[0m\u001b[0;34m\u001b[0m\u001b[0;34m\u001b[0m\u001b[0m\n\u001b[0;32m---> 12\u001b[0;31m     \u001b[0;32mif\u001b[0m \u001b[0mx\u001b[0m\u001b[0;34m.\u001b[0m\u001b[0mlower\u001b[0m\u001b[0;34m(\u001b[0m\u001b[0;34m)\u001b[0m \u001b[0;32min\u001b[0m \u001b[0mnewsTwitter\u001b[0m\u001b[0;34m:\u001b[0m\u001b[0;34m\u001b[0m\u001b[0m\n\u001b[0m\u001b[1;32m     13\u001b[0m         \u001b[0;31m# print(x)\u001b[0m\u001b[0;34m\u001b[0m\u001b[0;34m\u001b[0m\u001b[0m\n\u001b[1;32m     14\u001b[0m         \u001b[0mnewsMatch\u001b[0m\u001b[0;34m.\u001b[0m\u001b[0mappend\u001b[0m\u001b[0;34m(\u001b[0m\u001b[0mx\u001b[0m\u001b[0;34m)\u001b[0m\u001b[0;34m\u001b[0m\u001b[0m\n",
      "\u001b[0;31mAttributeError\u001b[0m: 'numpy.int64' object has no attribute 'lower'"
     ]
    }
   ],
   "source": [
    "# #News Sources\n",
    "# newsTwitter = ['reuters', 'nytimes','washingtonpost', 'buzzfeednews',\n",
    "#         'cnn','realdonaldtrump', 'berniesanders','hillaryclinton',\n",
    "#         'foxnews', 'breitbartnews','seanhannity', 'mike_pence', 'richardbspencer',\n",
    "#           'GlennBeck', 'rnc', 'tomilahren', 'espn', 'npr','KimKardashian']\n",
    "\n",
    "# # put results of news matching\n",
    "# newsMatch = []\n",
    "\n",
    "# for x in new_topFollowers.index:\n",
    "#     # if one of the names matches something in our list of news sources:\n",
    "#     if x.lower() in newsTwitter:\n",
    "#         # print(x)\n",
    "#         newsMatch.append(x)\n",
    "\n",
    "# # create data frame based on results\n",
    "# newsDf = pd.DataFrame(\n",
    "#         {   \"User\": newsMatch,             \n",
    "#         }\n",
    "#     )    \n",
    "\n",
    "# # get value caounts of each that matched #might throw error, check later\n",
    "# newsDf = newsDf[\"User\"].value_counts()\n",
    "\n",
    "# newsDf.to_frame()\n",
    "\n",
    "\n",
    "# newsDf.to_csv('Pop_Following.csv')"
   ]
  },
  {
   "cell_type": "code",
   "execution_count": 15,
   "metadata": {},
   "outputs": [
    {
     "data": {
      "text/plain": [
       "{'contributors_enabled': False,\n",
       " 'created_at': 'Wed Mar 18 13:46:38 +0000 2009',\n",
       " 'default_profile': False,\n",
       " 'default_profile_image': False,\n",
       " 'description': '45th President of the United States of America🇺🇸',\n",
       " 'entities': {'description': {'urls': []}},\n",
       " 'favourites_count': 15,\n",
       " 'follow_request_sent': False,\n",
       " 'followers_count': 39432535,\n",
       " 'following': False,\n",
       " 'friends_count': 45,\n",
       " 'geo_enabled': True,\n",
       " 'has_extended_profile': False,\n",
       " 'id': 25073877,\n",
       " 'id_str': '25073877',\n",
       " 'is_translation_enabled': True,\n",
       " 'is_translator': False,\n",
       " 'lang': 'en',\n",
       " 'listed_count': 77352,\n",
       " 'location': 'Washington, DC',\n",
       " 'name': 'Donald J. Trump',\n",
       " 'notifications': False,\n",
       " 'profile_background_color': '6D5C18',\n",
       " 'profile_background_image_url': 'http://pbs.twimg.com/profile_background_images/530021613/trump_scotland__43_of_70_cc.jpg',\n",
       " 'profile_background_image_url_https': 'https://pbs.twimg.com/profile_background_images/530021613/trump_scotland__43_of_70_cc.jpg',\n",
       " 'profile_background_tile': True,\n",
       " 'profile_banner_url': 'https://pbs.twimg.com/profile_banners/25073877/1506284043',\n",
       " 'profile_image_url': 'http://pbs.twimg.com/profile_images/874276197357596672/kUuht00m_normal.jpg',\n",
       " 'profile_image_url_https': 'https://pbs.twimg.com/profile_images/874276197357596672/kUuht00m_normal.jpg',\n",
       " 'profile_link_color': '1B95E0',\n",
       " 'profile_location': None,\n",
       " 'profile_sidebar_border_color': 'BDDCAD',\n",
       " 'profile_sidebar_fill_color': 'C5CEC0',\n",
       " 'profile_text_color': '333333',\n",
       " 'profile_use_background_image': True,\n",
       " 'protected': False,\n",
       " 'screen_name': 'realDonaldTrump',\n",
       " 'status': {'contributors': None,\n",
       "  'coordinates': None,\n",
       "  'created_at': 'Wed Sep 27 23:42:57 +0000 2017',\n",
       "  'entities': {'hashtags': [],\n",
       "   'symbols': [],\n",
       "   'urls': [{'display_url': 'twitter.com/i/web/status/9…',\n",
       "     'expanded_url': 'https://twitter.com/i/web/status/913187235452690432',\n",
       "     'indices': [125, 148],\n",
       "     'url': 'https://t.co/utQVW8IeUz'}],\n",
       "   'user_mentions': []},\n",
       "  'favorite_count': 10189,\n",
       "  'favorited': False,\n",
       "  'geo': None,\n",
       "  'id': 913187235452690432,\n",
       "  'id_str': '913187235452690432',\n",
       "  'in_reply_to_screen_name': None,\n",
       "  'in_reply_to_status_id': None,\n",
       "  'in_reply_to_status_id_str': None,\n",
       "  'in_reply_to_user_id': None,\n",
       "  'in_reply_to_user_id_str': None,\n",
       "  'is_quote_status': False,\n",
       "  'lang': 'en',\n",
       "  'place': None,\n",
       "  'possibly_sensitive': False,\n",
       "  'retweet_count': 2755,\n",
       "  'retweeted': False,\n",
       "  'source': '<a href=\"https://studio.twitter.com\" rel=\"nofollow\">Media Studio</a>',\n",
       "  'text': 'This is the right TAX CUT @ the RIGHT TIME. We will ALL succeed &amp; grow TOGETHER – as one team, one people, &amp; one Am… https://t.co/utQVW8IeUz',\n",
       "  'truncated': True},\n",
       " 'statuses_count': 35919,\n",
       " 'time_zone': 'Eastern Time (US & Canada)',\n",
       " 'translator_type': 'regular',\n",
       " 'url': None,\n",
       " 'utc_offset': -14400,\n",
       " 'verified': True}"
      ]
     },
     "execution_count": 15,
     "metadata": {},
     "output_type": "execute_result"
    }
   ],
   "source": [
    "# screen_name_from_id = api.get_user('25073877')\n",
    "# screen_name_from_id"
   ]
  },
  {
   "cell_type": "code",
   "execution_count": null,
   "metadata": {
    "collapsed": true
   },
   "outputs": [],
   "source": []
  }
 ],
 "metadata": {
  "kernelspec": {
   "display_name": "Python [conda env:PythonData]",
   "language": "python",
   "name": "conda-env-PythonData-py"
  },
  "language_info": {
   "codemirror_mode": {
    "name": "ipython",
    "version": 3
   },
   "file_extension": ".py",
   "mimetype": "text/x-python",
   "name": "python",
   "nbconvert_exporter": "python",
   "pygments_lexer": "ipython3",
   "version": "3.6.1"
  }
 },
 "nbformat": 4,
 "nbformat_minor": 2
}
