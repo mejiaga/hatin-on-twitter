{
 "cells": [
  {
   "cell_type": "markdown",
   "metadata": {},
   "source": [
    "# Dependencies"
   ]
  },
  {
   "cell_type": "code",
   "execution_count": 22,
   "metadata": {
    "collapsed": true
   },
   "outputs": [],
   "source": [
    "import json\n",
    "import pandas as pd\n",
    "import tweepy\n",
    "import matplotlib.pyplot as plt\n",
    "import seaborn as sns"
   ]
  },
  {
   "cell_type": "code",
   "execution_count": 2,
   "metadata": {
    "collapsed": true
   },
   "outputs": [],
   "source": [
    "# Twitter API Keys\n",
    "consumer_key = \"TMmoNF4ShPaG4MpftsiHGbx50\"\n",
    "consumer_secret = \"S4yUU9Efd3ZTS7B7j3tyPcRf2QYIZtyiAGJ3pTmU7D7fiecROy\"\n",
    "access_token = \"503080507-mGl2xweaoTaAnkleYsXWQL4vIKwHe6tPdhMbXMbx\"\n",
    "access_token_secret = \"jm9HkG3SLrSjho5I4lanfCaZX8MVtO0bcI1RWbRcWiDWi\"\n",
    "\n",
    "# Setup Tweepy API Authentication\n",
    "auth = tweepy.OAuthHandler(consumer_key, consumer_secret)\n",
    "auth.set_access_token(access_token, access_token_secret)\n",
    "api = tweepy.API(auth, parser=tweepy.parsers.JSONParser(), wait_on_rate_limit = True, wait_on_rate_limit_notify = True)"
   ]
  },
  {
   "cell_type": "markdown",
   "metadata": {},
   "source": [
    "# Combine data and get top 20\n"
   ]
  },
  {
   "cell_type": "code",
   "execution_count": 3,
   "metadata": {
    "scrolled": true
   },
   "outputs": [
    {
     "data": {
      "text/html": [
       "<div>\n",
       "<style>\n",
       "    .dataframe thead tr:only-child th {\n",
       "        text-align: right;\n",
       "    }\n",
       "\n",
       "    .dataframe thead th {\n",
       "        text-align: left;\n",
       "    }\n",
       "\n",
       "    .dataframe tbody tr th {\n",
       "        vertical-align: top;\n",
       "    }\n",
       "</style>\n",
       "<table border=\"1\" class=\"dataframe\">\n",
       "  <thead>\n",
       "    <tr style=\"text-align: right;\">\n",
       "      <th></th>\n",
       "      <th>mutual count</th>\n",
       "    </tr>\n",
       "    <tr>\n",
       "      <th>screen name</th>\n",
       "      <th></th>\n",
       "    </tr>\n",
       "  </thead>\n",
       "  <tbody>\n",
       "    <tr>\n",
       "      <th>25073877</th>\n",
       "      <td>423</td>\n",
       "    </tr>\n",
       "    <tr>\n",
       "      <th>822215679726100480</th>\n",
       "      <td>339</td>\n",
       "    </tr>\n",
       "    <tr>\n",
       "      <th>196168350</th>\n",
       "      <td>227</td>\n",
       "    </tr>\n",
       "    <tr>\n",
       "      <th>16589206</th>\n",
       "      <td>225</td>\n",
       "    </tr>\n",
       "    <tr>\n",
       "      <th>78523300</th>\n",
       "      <td>223</td>\n",
       "    </tr>\n",
       "  </tbody>\n",
       "</table>\n",
       "</div>"
      ],
      "text/plain": [
       "                    mutual count\n",
       "screen name                     \n",
       "25073877                     423\n",
       "822215679726100480           339\n",
       "196168350                    227\n",
       "16589206                     225\n",
       "78523300                     223"
      ]
     },
     "execution_count": 3,
     "metadata": {},
     "output_type": "execute_result"
    }
   ],
   "source": [
    "twitter_act = '../unique_users.csv'\n",
    "screen_name = pd.read_csv(twitter_act)\n",
    "\n",
    "racist1 = pd.read_csv('short_follower_frequency150.csv')\n",
    "racist2 = pd.read_csv('short_follower_frequency300.csv')\n",
    "racist3 = pd.read_csv('short_follower_frequency450.csv')\n",
    "racist4 = pd.read_csv('short_follower_frequency600.csv')\n",
    "racist5 = pd.read_csv('short_follower_frequency750.csv')\n",
    "racist6 = pd.read_csv('short_follower_frequencyRest.csv')\n",
    "\n",
    "frames = [racist1, racist2, racist3, racist4, racist5, racist6]\n",
    "\n",
    "everything = pd.concat(frames)\n",
    "\n",
    "everything.columns = [\n",
    "  'screen name',\n",
    "  'mutual count'\n",
    "]\n",
    "\n",
    "#Top 20 .. top 50\n",
    "# twenty = everything.groupby('screen name').sum().sort_values('mutual count', ascending=False).iloc[0:20]\n",
    "condensed = everything.groupby('screen name').sum().sort_values('mutual count', ascending=False).iloc[0:50]\n",
    "\n",
    "#100 -- just to take a look\n",
    "full = everything.groupby('screen name').sum().sort_values('mutual count', ascending=False).iloc[0:100]\n",
    "full.head()\n"
   ]
  },
  {
   "cell_type": "markdown",
   "metadata": {},
   "source": [
    "# Data Frame: Top 50"
   ]
  },
  {
   "cell_type": "code",
   "execution_count": 4,
   "metadata": {
    "collapsed": true
   },
   "outputs": [],
   "source": [
    "topFollowers = pd.DataFrame(\n",
    "        {   \"User\": [x for x in condensed.index[0:50]],\n",
    "            \"Follower Count\": [x for x in condensed[\"mutual count\"][0:50]],\n",
    "            \n",
    "        }\n",
    "    )\n",
    "topFollowers[[\"User\", \"Follower Count\"]] \n",
    "new_topFollowers = topFollowers.set_index(['User'])\n",
    "\n",
    "del new_topFollowers.index.name\n",
    "\n",
    "new_topFollowers\n",
    "\n",
    "# most popular from following lists\n",
    "new_topFollowers.to_csv('mutual_followers.csv')"
   ]
  },
  {
   "cell_type": "markdown",
   "metadata": {
    "collapsed": true
   },
   "source": [
    "# Convert IDs to Screen Name for Top 50"
   ]
  },
  {
   "cell_type": "code",
   "execution_count": 6,
   "metadata": {},
   "outputs": [
    {
     "data": {
      "text/html": [
       "<div>\n",
       "<style>\n",
       "    .dataframe thead tr:only-child th {\n",
       "        text-align: right;\n",
       "    }\n",
       "\n",
       "    .dataframe thead th {\n",
       "        text-align: left;\n",
       "    }\n",
       "\n",
       "    .dataframe tbody tr th {\n",
       "        vertical-align: top;\n",
       "    }\n",
       "</style>\n",
       "<table border=\"1\" class=\"dataframe\">\n",
       "  <thead>\n",
       "    <tr style=\"text-align: right;\">\n",
       "      <th></th>\n",
       "      <th>Follower Count</th>\n",
       "      <th>Twitter Name</th>\n",
       "    </tr>\n",
       "  </thead>\n",
       "  <tbody>\n",
       "    <tr>\n",
       "      <th>25073877</th>\n",
       "      <td>423</td>\n",
       "      <td>realDonaldTrump</td>\n",
       "    </tr>\n",
       "    <tr>\n",
       "      <th>822215679726100480</th>\n",
       "      <td>339</td>\n",
       "      <td>POTUS</td>\n",
       "    </tr>\n",
       "    <tr>\n",
       "      <th>196168350</th>\n",
       "      <td>227</td>\n",
       "      <td>AnnCoulter</td>\n",
       "    </tr>\n",
       "    <tr>\n",
       "      <th>16589206</th>\n",
       "      <td>225</td>\n",
       "      <td>wikileaks</td>\n",
       "    </tr>\n",
       "    <tr>\n",
       "      <th>78523300</th>\n",
       "      <td>223</td>\n",
       "      <td>RealJamesWoods</td>\n",
       "    </tr>\n",
       "  </tbody>\n",
       "</table>\n",
       "</div>"
      ],
      "text/plain": [
       "                    Follower Count     Twitter Name\n",
       "25073877                       423  realDonaldTrump\n",
       "822215679726100480             339            POTUS\n",
       "196168350                      227       AnnCoulter\n",
       "16589206                       225        wikileaks\n",
       "78523300                       223   RealJamesWoods"
      ]
     },
     "execution_count": 6,
     "metadata": {},
     "output_type": "execute_result"
    }
   ],
   "source": [
    "screennames50 = []\n",
    "\n",
    "for name in new_topFollowers.index:\n",
    "    # convert the twitter id to a screen name by inputing ID into .get_user api\n",
    "    screen_name_from_id = api.get_user(name)\n",
    "\n",
    "#     print(screen_name_from_id[\"screen_name\"])\n",
    "    screennames50.append(screen_name_from_id[\"screen_name\"])\n",
    "    \n",
    "new_topFollowers[\"Twitter Name\"] = [x for x in screennames50]\n",
    "    \n",
    "new_topFollowers.head()\n",
    "\n"
   ]
  },
  {
   "cell_type": "markdown",
   "metadata": {},
   "source": [
    "# Data Frame: Top 100"
   ]
  },
  {
   "cell_type": "code",
   "execution_count": 5,
   "metadata": {},
   "outputs": [
    {
     "data": {
      "text/html": [
       "<div>\n",
       "<style>\n",
       "    .dataframe thead tr:only-child th {\n",
       "        text-align: right;\n",
       "    }\n",
       "\n",
       "    .dataframe thead th {\n",
       "        text-align: left;\n",
       "    }\n",
       "\n",
       "    .dataframe tbody tr th {\n",
       "        vertical-align: top;\n",
       "    }\n",
       "</style>\n",
       "<table border=\"1\" class=\"dataframe\">\n",
       "  <thead>\n",
       "    <tr style=\"text-align: right;\">\n",
       "      <th></th>\n",
       "      <th>Follower Count</th>\n",
       "    </tr>\n",
       "  </thead>\n",
       "  <tbody>\n",
       "    <tr>\n",
       "      <th>25073877</th>\n",
       "      <td>423</td>\n",
       "    </tr>\n",
       "    <tr>\n",
       "      <th>822215679726100480</th>\n",
       "      <td>339</td>\n",
       "    </tr>\n",
       "    <tr>\n",
       "      <th>196168350</th>\n",
       "      <td>227</td>\n",
       "    </tr>\n",
       "    <tr>\n",
       "      <th>16589206</th>\n",
       "      <td>225</td>\n",
       "    </tr>\n",
       "    <tr>\n",
       "      <th>78523300</th>\n",
       "      <td>223</td>\n",
       "    </tr>\n",
       "  </tbody>\n",
       "</table>\n",
       "</div>"
      ],
      "text/plain": [
       "                    Follower Count\n",
       "25073877                       423\n",
       "822215679726100480             339\n",
       "196168350                      227\n",
       "16589206                       225\n",
       "78523300                       223"
      ]
     },
     "execution_count": 5,
     "metadata": {},
     "output_type": "execute_result"
    }
   ],
   "source": [
    "hunFollowers = pd.DataFrame(\n",
    "        {   \"User\": [x for x in full.index[0:100]],\n",
    "            \"Follower Count\": [x for x in full[\"mutual count\"][0:100]],\n",
    "            \n",
    "        }\n",
    "    )\n",
    "hunFollowers[[\"User\", \"Follower Count\"]] \n",
    "new_hunFollowers = hunFollowers.set_index(['User'])\n",
    "\n",
    "del new_hunFollowers.index.name\n",
    "\n",
    "\n",
    "# most popular from following lists\n",
    "new_hunFollowers.to_csv('top_hundred.csv')\n",
    "\n",
    "new_hunFollowers.head()"
   ]
  },
  {
   "cell_type": "markdown",
   "metadata": {},
   "source": [
    "# Convert IDs to Screen Name for Top 100"
   ]
  },
  {
   "cell_type": "code",
   "execution_count": 16,
   "metadata": {},
   "outputs": [
    {
     "name": "stdout",
     "output_type": "stream",
     "text": [
      "error on: ChristieC733\n"
     ]
    },
    {
     "data": {
      "text/html": [
       "<div>\n",
       "<style>\n",
       "    .dataframe thead tr:only-child th {\n",
       "        text-align: right;\n",
       "    }\n",
       "\n",
       "    .dataframe thead th {\n",
       "        text-align: left;\n",
       "    }\n",
       "\n",
       "    .dataframe tbody tr th {\n",
       "        vertical-align: top;\n",
       "    }\n",
       "</style>\n",
       "<table border=\"1\" class=\"dataframe\">\n",
       "  <thead>\n",
       "    <tr style=\"text-align: right;\">\n",
       "      <th></th>\n",
       "      <th>Follower Count</th>\n",
       "      <th>User</th>\n",
       "    </tr>\n",
       "    <tr>\n",
       "      <th>Twitter Name</th>\n",
       "      <th></th>\n",
       "      <th></th>\n",
       "    </tr>\n",
       "  </thead>\n",
       "  <tbody>\n",
       "    <tr>\n",
       "      <th>realDonaldTrump</th>\n",
       "      <td>423</td>\n",
       "      <td>25073877</td>\n",
       "    </tr>\n",
       "    <tr>\n",
       "      <th>POTUS</th>\n",
       "      <td>339</td>\n",
       "      <td>822215679726100480</td>\n",
       "    </tr>\n",
       "    <tr>\n",
       "      <th>AnnCoulter</th>\n",
       "      <td>227</td>\n",
       "      <td>196168350</td>\n",
       "    </tr>\n",
       "    <tr>\n",
       "      <th>wikileaks</th>\n",
       "      <td>225</td>\n",
       "      <td>16589206</td>\n",
       "    </tr>\n",
       "    <tr>\n",
       "      <th>RealJamesWoods</th>\n",
       "      <td>223</td>\n",
       "      <td>78523300</td>\n",
       "    </tr>\n",
       "  </tbody>\n",
       "</table>\n",
       "</div>"
      ],
      "text/plain": [
       "                 Follower Count                User\n",
       "Twitter Name                                       \n",
       "realDonaldTrump             423            25073877\n",
       "POTUS                       339  822215679726100480\n",
       "AnnCoulter                  227           196168350\n",
       "wikileaks                   225            16589206\n",
       "RealJamesWoods              223            78523300"
      ]
     },
     "execution_count": 16,
     "metadata": {},
     "output_type": "execute_result"
    }
   ],
   "source": [
    "screennames100 = []\n",
    "\n",
    "for hun in new_hunFollowers.index:\n",
    "    try:\n",
    "        # convert the twitter id to a screen name by inputing ID into .get_user api\n",
    "        screen_name_from_id_100 = api.get_user(hun)\n",
    "        \n",
    "        screennames100.append(screen_name_from_id_100[\"screen_name\"])\n",
    "    except:\n",
    "        hun = \"ChristieC733\" #this users profile was deleted recently, but thanks to google we could id\n",
    "        screennames100.append(hun)\n",
    "        print('error on: ' + str(hun))\n",
    "        \n",
    "\n",
    "hunFollowers[\"Twitter Name\"] = [x for x in screennames100]\n",
    "    \n",
    "# new_hunFollowers.head()\n",
    "\n",
    "# new_hunFollowers = new_hunFollowers.set_index(['Twitter Name'])\n",
    "\n",
    "# del new_hunFollowers.index.name\n",
    "\n",
    "hunFollowers.set_index([\"Twitter Name\"], inplace=True)\n",
    "\n",
    "hunFollowers.head()"
   ]
  },
  {
   "cell_type": "markdown",
   "metadata": {},
   "source": [
    "# Convert user Ids of newsTwitter list to their user ID"
   ]
  },
  {
   "cell_type": "code",
   "execution_count": 8,
   "metadata": {},
   "outputs": [
    {
     "data": {
      "text/plain": [
       "[1652541,\n",
       " 807095,\n",
       " 2467791,\n",
       " 1020058453,\n",
       " 759251,\n",
       " 25073877,\n",
       " 216776631,\n",
       " 1339835893,\n",
       " 1367531,\n",
       " 457984599,\n",
       " 41634520,\n",
       " 22203756,\n",
       " 402181258,\n",
       " 17454769,\n",
       " 529648439,\n",
       " 468646961,\n",
       " 2557521,\n",
       " 5392522,\n",
       " 25365536]"
      ]
     },
     "execution_count": 8,
     "metadata": {},
     "output_type": "execute_result"
    }
   ],
   "source": [
    "#News & Celebrity Sources\n",
    "newsTwitter = ['reuters', 'nytimes','washingtonpost', 'buzzfeednews',\n",
    "        'cnn','realdonaldtrump', 'berniesanders','hillaryclinton',\n",
    "        'foxnews', 'breitbartnews','seanhannity', 'mike_pence', 'richardbspencer',\n",
    "          'GlennBeck', 'rnc', 'tomilahren', 'espn', 'npr','KimKardashian']\n",
    "\n",
    "# Put screen names ID's here\n",
    "newsIds = []\n",
    "\n",
    "# loop through screen names given\n",
    "for name in newsTwitter:\n",
    "    try:\n",
    "        # targets given name in the screen names list\n",
    "        followers_id = api.get_user(name)\n",
    "        \n",
    "        newsIds.append(followers_id['id'])\n",
    "    except:  \n",
    "        print('error on: ' + str(name))\n",
    "\n",
    "newsIds\n"
   ]
  },
  {
   "cell_type": "markdown",
   "metadata": {},
   "source": [
    "# Create DF that combines the news source with it's ID"
   ]
  },
  {
   "cell_type": "code",
   "execution_count": 9,
   "metadata": {},
   "outputs": [
    {
     "data": {
      "text/html": [
       "<div>\n",
       "<style>\n",
       "    .dataframe thead tr:only-child th {\n",
       "        text-align: right;\n",
       "    }\n",
       "\n",
       "    .dataframe thead th {\n",
       "        text-align: left;\n",
       "    }\n",
       "\n",
       "    .dataframe tbody tr th {\n",
       "        vertical-align: top;\n",
       "    }\n",
       "</style>\n",
       "<table border=\"1\" class=\"dataframe\">\n",
       "  <thead>\n",
       "    <tr style=\"text-align: right;\">\n",
       "      <th></th>\n",
       "      <th>ID</th>\n",
       "    </tr>\n",
       "  </thead>\n",
       "  <tbody>\n",
       "    <tr>\n",
       "      <th>reuters</th>\n",
       "      <td>1652541</td>\n",
       "    </tr>\n",
       "    <tr>\n",
       "      <th>nytimes</th>\n",
       "      <td>807095</td>\n",
       "    </tr>\n",
       "    <tr>\n",
       "      <th>washingtonpost</th>\n",
       "      <td>2467791</td>\n",
       "    </tr>\n",
       "    <tr>\n",
       "      <th>buzzfeednews</th>\n",
       "      <td>1020058453</td>\n",
       "    </tr>\n",
       "    <tr>\n",
       "      <th>cnn</th>\n",
       "      <td>759251</td>\n",
       "    </tr>\n",
       "  </tbody>\n",
       "</table>\n",
       "</div>"
      ],
      "text/plain": [
       "                        ID\n",
       "reuters            1652541\n",
       "nytimes             807095\n",
       "washingtonpost     2467791\n",
       "buzzfeednews    1020058453\n",
       "cnn                 759251"
      ]
     },
     "execution_count": 9,
     "metadata": {},
     "output_type": "execute_result"
    }
   ],
   "source": [
    "newsDf = pd.DataFrame(\n",
    "        {   \"User\": [x for x in newsTwitter],\n",
    "            \"ID\": [x for x in newsIds],\n",
    "            \n",
    "        }\n",
    "    )\n",
    "newsDf[[\"User\", \"ID\"]] \n",
    "new_newsDf = newsDf.set_index(['User'])\n",
    "\n",
    "del new_newsDf.index.name\n",
    "\n",
    "new_newsDf.head()"
   ]
  },
  {
   "cell_type": "markdown",
   "metadata": {},
   "source": [
    "# Let's see if our users follow these sources"
   ]
  },
  {
   "cell_type": "code",
   "execution_count": 19,
   "metadata": {},
   "outputs": [
    {
     "data": {
      "text/html": [
       "<div>\n",
       "<style>\n",
       "    .dataframe thead tr:only-child th {\n",
       "        text-align: right;\n",
       "    }\n",
       "\n",
       "    .dataframe thead th {\n",
       "        text-align: left;\n",
       "    }\n",
       "\n",
       "    .dataframe tbody tr th {\n",
       "        vertical-align: top;\n",
       "    }\n",
       "</style>\n",
       "<table border=\"1\" class=\"dataframe\">\n",
       "  <thead>\n",
       "    <tr style=\"text-align: right;\">\n",
       "      <th></th>\n",
       "      <th>Follower Count</th>\n",
       "      <th>User</th>\n",
       "    </tr>\n",
       "    <tr>\n",
       "      <th>Twitter Name</th>\n",
       "      <th></th>\n",
       "      <th></th>\n",
       "    </tr>\n",
       "  </thead>\n",
       "  <tbody>\n",
       "    <tr>\n",
       "      <th>realDonaldTrump</th>\n",
       "      <td>423</td>\n",
       "      <td>25073877</td>\n",
       "    </tr>\n",
       "    <tr>\n",
       "      <th>seanhannity</th>\n",
       "      <td>214</td>\n",
       "      <td>41634520</td>\n",
       "    </tr>\n",
       "    <tr>\n",
       "      <th>BreitbartNews</th>\n",
       "      <td>191</td>\n",
       "      <td>457984599</td>\n",
       "    </tr>\n",
       "    <tr>\n",
       "      <th>mike_pence</th>\n",
       "      <td>184</td>\n",
       "      <td>22203756</td>\n",
       "    </tr>\n",
       "    <tr>\n",
       "      <th>FoxNews</th>\n",
       "      <td>171</td>\n",
       "      <td>1367531</td>\n",
       "    </tr>\n",
       "    <tr>\n",
       "      <th>nytimes</th>\n",
       "      <td>144</td>\n",
       "      <td>807095</td>\n",
       "    </tr>\n",
       "    <tr>\n",
       "      <th>HillaryClinton</th>\n",
       "      <td>132</td>\n",
       "      <td>1339835893</td>\n",
       "    </tr>\n",
       "    <tr>\n",
       "      <th>CNN</th>\n",
       "      <td>131</td>\n",
       "      <td>759251</td>\n",
       "    </tr>\n",
       "    <tr>\n",
       "      <th>Reuters</th>\n",
       "      <td>131</td>\n",
       "      <td>1652541</td>\n",
       "    </tr>\n",
       "    <tr>\n",
       "      <th>washingtonpost</th>\n",
       "      <td>109</td>\n",
       "      <td>2467791</td>\n",
       "    </tr>\n",
       "    <tr>\n",
       "      <th>TomiLahren</th>\n",
       "      <td>108</td>\n",
       "      <td>468646961</td>\n",
       "    </tr>\n",
       "    <tr>\n",
       "      <th>BernieSanders</th>\n",
       "      <td>97</td>\n",
       "      <td>216776631</td>\n",
       "    </tr>\n",
       "  </tbody>\n",
       "</table>\n",
       "</div>"
      ],
      "text/plain": [
       "                 Follower Count        User\n",
       "Twitter Name                               \n",
       "realDonaldTrump             423    25073877\n",
       "seanhannity                 214    41634520\n",
       "BreitbartNews               191   457984599\n",
       "mike_pence                  184    22203756\n",
       "FoxNews                     171     1367531\n",
       "nytimes                     144      807095\n",
       "HillaryClinton              132  1339835893\n",
       "CNN                         131      759251\n",
       "Reuters                     131     1652541\n",
       "washingtonpost              109     2467791\n",
       "TomiLahren                  108   468646961\n",
       "BernieSanders                97   216776631"
      ]
     },
     "execution_count": 19,
     "metadata": {},
     "output_type": "execute_result"
    }
   ],
   "source": [
    "#News Sources\n",
    "newsTwitter = ['reuters', 'nytimes','washingtonpost', 'buzzfeednews',\n",
    "        'cnn','realdonaldtrump', 'berniesanders','hillaryclinton',\n",
    "        'foxnews', 'breitbartnews','seanhannity', 'mike_pence', 'richardbspencer',\n",
    "          'GlennBeck', 'rnc', 'tomilahren', 'espn', 'npr']\n",
    "\n",
    "# put results of news matching\n",
    "newsMatch = []\n",
    "\n",
    "for x in hunFollowers.index:\n",
    "    # if one of the names matches something in our list of news sources:\n",
    "    if x.lower() in newsTwitter:\n",
    "        newsMatch.append(x)\n",
    "        \n",
    "\n",
    "matches = hunFollowers.loc[newsMatch]\n",
    "matches.to_csv('News_Following.csv')\n",
    "\n",
    "matches\n"
   ]
  },
  {
   "cell_type": "markdown",
   "metadata": {},
   "source": [
    "# Visualizations"
   ]
  },
  {
   "cell_type": "markdown",
   "metadata": {},
   "source": [
    "## Bar Chart to show those who followed specific news sources"
   ]
  },
  {
   "cell_type": "code",
   "execution_count": 104,
   "metadata": {},
   "outputs": [
    {
     "data": {
      "image/png": "[encoded data removed]",
      "text/plain": [
       "<matplotlib.figure.Figure at 0x119e80320>"
      ]
     },
     "metadata": {},
     "output_type": "display_data"
    }
   ],
   "source": [
    "sns.set_style(\"darkgrid\", { 'grid.color': '.02'})\n",
    "plt.xticks(rotation=90)\n",
    "ax = sns.barplot(matches.index, y=\"Follower Count\", data=matches, palette=\"Reds_d\")\n",
    "ax.set_ylabel('Follower Count')\n",
    "ax.set_title('Users Who Followed News Sources')\n",
    "\n",
    "plt.show()\n"
   ]
  },
  {
   "cell_type": "code",
   "execution_count": null,
   "metadata": {
    "collapsed": true
   },
   "outputs": [],
   "source": []
  }
 ],
 "metadata": {
  "kernelspec": {
   "display_name": "Python [conda env:PythonData]",
   "language": "python",
   "name": "conda-env-PythonData-py"
  },
  "language_info": {
   "codemirror_mode": {
    "name": "ipython",
    "version": 3
   },
   "file_extension": ".py",
   "mimetype": "text/x-python",
   "name": "python",
   "nbconvert_exporter": "python",
   "pygments_lexer": "ipython3",
   "version": "3.6.1"
  }
 },
 "nbformat": 4,
 "nbformat_minor": 2
}
