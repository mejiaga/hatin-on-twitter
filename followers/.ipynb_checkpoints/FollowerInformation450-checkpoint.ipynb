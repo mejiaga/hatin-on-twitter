{
 "cells": [
  {
   "cell_type": "markdown",
   "metadata": {},
   "source": [
    "# Dependencies"
   ]
  },
  {
   "cell_type": "code",
   "execution_count": 1,
   "metadata": {
    "collapsed": true
   },
   "outputs": [],
   "source": [
    "import tweepy\n",
    "import json\n",
    "import pandas as pd\n",
    "import matplotlib.pyplot as mpl"
   ]
  },
  {
   "cell_type": "markdown",
   "metadata": {},
   "source": [
    "# Twitter API Keys & Auth"
   ]
  },
  {
   "cell_type": "code",
   "execution_count": 2,
   "metadata": {
    "collapsed": true
   },
   "outputs": [],
   "source": [
    "# Twitter API Keys\n",
    "consumer_key = \"mZxf6FXUK9RcTKGhDWXsjGtQE\"\n",
    "consumer_secret = \"59zVH1ZGgnq03hEySq7PciRqRVlQi89Oz2qrJab57BlLmuQNI1\"\n",
    "access_token = \"503080507-cWXD2PNPVAMqIggSjte6LRZcnHKTdwv9GjL9Bn59\"\n",
    "access_token_secret = \"r4aGrGcZEbXOg5xy7XiYdOacZcVuMAqygajlyLuiGAfuA\"\n",
    "\n",
    "# Setup Tweepy API Authentication\n",
    "auth = tweepy.OAuthHandler(consumer_key, consumer_secret)\n",
    "auth.set_access_token(access_token, access_token_secret)\n",
    "api = tweepy.API(auth, parser=tweepy.parsers.JSONParser(), wait_on_rate_limit = True, wait_on_rate_limit_notify = True)"
   ]
  },
  {
   "cell_type": "markdown",
   "metadata": {},
   "source": [
    "## Test Information"
   ]
  },
  {
   "cell_type": "code",
   "execution_count": 3,
   "metadata": {},
   "outputs": [
    {
     "data": {
      "text/plain": [
       "Index(['uHateBre', 'qtm261', 'JSlayerTeeCho', 'Sapphire6210', 'PapillonPride',\n",
       "       'jamesmack2988', 'reneewoods3', 'KrissyMaeJohns1', 'johnramos91',\n",
       "       'thelegitTJ',\n",
       "       ...\n",
       "       'QBDAD', 'alexa_haves', 'mjosantillanes', 'bacardi__goldd',\n",
       "       'hotrocksyes', 'MaxKennerly', 'angelpingz', 'winslowlaroche',\n",
       "       'lil_yenta', 'holupbigbaby'],\n",
       "      dtype='object', length=891)"
      ]
     },
     "execution_count": 3,
     "metadata": {},
     "output_type": "execute_result"
    }
   ],
   "source": [
    "twitter_act = '../unique_users.csv'\n",
    "screen_name = pd.read_csv(twitter_act)\n",
    "\n",
    "# screen_name = [\"mewriah\"] #also works if you add multiple twitter names to check\n",
    "followers = []\n",
    "follower_count = []\n",
    "\n",
    "individual_screen_name = screen_name[\"screen name\"].value_counts().to_frame().index\n",
    "individual_screen_name\n"
   ]
  },
  {
   "cell_type": "markdown",
   "metadata": {},
   "source": [
    "# Process:\n",
    "## * Loop through list given, get their users, find out how many followers those users have, and find mutual following within list given\n",
    "\n"
   ]
  },
  {
   "cell_type": "code",
   "execution_count": null,
   "metadata": {
    "collapsed": true,
    "scrolled": true
   },
   "outputs": [],
   "source": [
    "# loop through screen names given. ie: screen_name\n",
    "for name in individual_screen_name[300:451]:\n",
    "    try:\n",
    "        # targets given name in the screen names list\n",
    "        followers_id = api.friends_ids(name)\n",
    "\n",
    "        # Loop through all following list of user selected and get the ID's of those users\n",
    "        for tweet in followers_id['ids']:\n",
    "            followers.append(tweet)\n",
    "            print(tweet)\n",
    "\n",
    "    except:  \n",
    "        print('error on: ' + str(name))\n",
    "    #get length of list\n",
    "    print(len(followers))\n",
    "\n"
   ]
  },
  {
   "cell_type": "markdown",
   "metadata": {},
   "source": [
    "# Data Frame: Top Followers from test list"
   ]
  },
  {
   "cell_type": "code",
   "execution_count": null,
   "metadata": {
    "collapsed": true
   },
   "outputs": [],
   "source": [
    "topFollowers = pd.DataFrame(\n",
    "        {   \"User\": followers,\n",
    "#             \"Follower Count\": follower_count,\n",
    "            \n",
    "        }\n",
    "    )\n",
    "topFollowers[[\"User\"]] #,\"Follower Count\"\n",
    "new_topFollowers = topFollowers.set_index(['User'])\n",
    "\n",
    "del new_topFollowers.index.name\n",
    "\n",
    "# new_topFollowers[\"Mutual Followers\"] = 0\n",
    "new_topFollowers.index.value_counts()\n",
    "\n",
    "#most popular from following lists\n"
   ]
  },
  {
   "cell_type": "markdown",
   "metadata": {},
   "source": [
    "# Mutual Follower Frequency"
   ]
  },
  {
   "cell_type": "code",
   "execution_count": null,
   "metadata": {
    "collapsed": true
   },
   "outputs": [],
   "source": [
    "# get number of occurances of each user\n",
    "popular_follow = new_topFollowers.index.value_counts().to_frame().reset_index()\n",
    "popular_follow.head(15)\n",
    "\n",
    "popular_follow.to_csv('short_follower_frequency450.csv', index=False)"
   ]
  },
  {
   "cell_type": "code",
   "execution_count": null,
   "metadata": {
    "collapsed": true
   },
   "outputs": [],
   "source": []
  }
 ],
 "metadata": {
  "kernelspec": {
   "display_name": "Python [conda env:PythonData]",
   "language": "python",
   "name": "conda-env-PythonData-py"
  },
  "language_info": {
   "codemirror_mode": {
    "name": "ipython",
    "version": 3
   },
   "file_extension": ".py",
   "mimetype": "text/x-python",
   "name": "python",
   "nbconvert_exporter": "python",
   "pygments_lexer": "ipython3",
   "version": "3.6.1"
  }
 },
 "nbformat": 4,
 "nbformat_minor": 2
}
