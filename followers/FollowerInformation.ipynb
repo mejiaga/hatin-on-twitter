{
 "cells": [
  {
   "cell_type": "markdown",
   "metadata": {},
   "source": [
    "# Dependencies"
   ]
  },
  {
   "cell_type": "code",
   "execution_count": null,
   "metadata": {
    "collapsed": true
   },
   "outputs": [],
   "source": [
    "import tweepy\n",
    "import json\n",
    "import pandas as pd\n",
    "import matplotlib.pyplot as mpl"
   ]
  },
  {
   "cell_type": "markdown",
   "metadata": {},
   "source": [
    "# Twitter API Keys & Auth"
   ]
  },
  {
   "cell_type": "code",
   "execution_count": null,
   "metadata": {
    "collapsed": true
   },
   "outputs": [],
   "source": [
    "# Twitter API Keys\n",
    "consumer_key = \"R0IpDcJybt7Wwtv2lBxQKvBOU\"\n",
    "consumer_secret = \"S85HBA4igNpLZar4zxTGJ4VYxi36GsaOy3Vlvcw0QTmgeyVuDe\"\n",
    "access_token = \"503080507-bfCWAZbNb1a0TMj6dQ59MUi7YfFBEl3wY8QqDwip\"\n",
    "access_token_secret = \"ESCY5WGv2DjtZiXuiaWnfdAJlQ2jvpAzdoQLgZpg67gCc\"\n",
    "\n",
    "# Setup Tweepy API Authentication\n",
    "auth = tweepy.OAuthHandler(consumer_key, consumer_secret)\n",
    "auth.set_access_token(access_token, access_token_secret)\n",
    "api = tweepy.API(auth, parser=tweepy.parsers.JSONParser(), wait_on_rate_limit = True, wait_on_rate_limit_notify = True)"
   ]
  },
  {
   "cell_type": "markdown",
   "metadata": {},
   "source": [
    "## Test Information"
   ]
  },
  {
   "cell_type": "code",
   "execution_count": null,
   "metadata": {},
   "outputs": [],
   "source": [
    "twitter_act = '../filtered_results.csv'\n",
    "screen_name = pd.read_csv(twitter_act)\n",
    "\n",
    "# screen_name = [\"mewriah\"] #also works if you add multiple twitter names to check\n",
    "followers = []\n",
    "follower_count = []\n",
    "\n",
    "individual_screen_name = screen_name[\"screen name\"].value_counts().to_frame().index\n",
    "individual_screen_name\n",
    "\n",
    "for name in individual_screen_name:\n",
    "    print(name)"
   ]
  },
  {
   "cell_type": "markdown",
   "metadata": {},
   "source": [
    "# Process:\n",
    "## * Loop through list given, get their users, find out how many followers those users have, and find mutual following within list given\n",
    "\n"
   ]
  },
  {
   "cell_type": "code",
   "execution_count": null,
   "metadata": {
    "scrolled": true
   },
   "outputs": [],
   "source": [
    "def find_friends():\n",
    "    more_friends  = True\n",
    "    cursor_num = -1\n",
    "    \n",
    "    while(more_friends): \n",
    "        for name in individual_screen_name:\n",
    "            try:\n",
    "                followers_id = api.friends_ids(id = name, cursor = cursor_num)\n",
    "                for tweet in followers_id['ids']:\n",
    "                    followers.append(tweet)\n",
    "                    print(tweet)\n",
    "\n",
    "                cursor_num = followers_id[0]['next_cursor']\n",
    "                if cursor_num == 0:\n",
    "                    more_friends = False\n",
    "            except:\n",
    "                print('error' + name)\n",
    "\n",
    "find_friends()\n",
    "\n",
    "            \n",
    "            \n",
    "\n",
    "# # loop through screen names given. ie: screen_name\n",
    "# for name in individual_screen_name[0:100]:\n",
    "#     try:\n",
    "#         # targets given name in the screen names list\n",
    "#         followers_id = api.friends_ids(name)\n",
    "\n",
    "#         # Loop through all following list of user selected and get the ID's of those users\n",
    "#         for tweet in followers_id['ids']:\n",
    "#             followers.append(tweet)\n",
    "#             print(tweet)\n",
    "# #             # convert the twitter id to a screen name by inputing ID into .get_user api\n",
    "# #             screen_name_from_id = api.get_user(tweet)\n",
    "\n",
    "# #             # if this account has more than X followers, add to list \n",
    "# #             if(screen_name_from_id[\"followers_count\"] >= 500000):\n",
    "# #                 # Prints the screen name from the ID loop \n",
    "# #                 print(screen_name_from_id[\"screen_name\"])\n",
    "# #                 print(screen_name_from_id[\"followers_count\"])\n",
    "\n",
    "# #                 if screen_name_from_id[\"screen_name\"] not in followers_id:\n",
    "# #                     #append to list of followers\n",
    "# #                     followers.append(screen_name_from_id[\"screen_name\"])\n",
    "# #                     follower_count.append(screen_name_from_id[\"followers_count\"])\n",
    "#     except:  \n",
    "#         print('error on: ' + str(name))\n",
    "#     #get length of list\n",
    "#     print(len(followers))\n",
    "\n"
   ]
  },
  {
   "cell_type": "markdown",
   "metadata": {},
   "source": [
    "# Data Frame: Top Followers from test list"
   ]
  },
  {
   "cell_type": "code",
   "execution_count": null,
   "metadata": {
    "collapsed": true
   },
   "outputs": [],
   "source": [
    "topFollowers = pd.DataFrame(\n",
    "        {   \"User\": followers,\n",
    "#             \"Follower Count\": follower_count,\n",
    "            \n",
    "        }\n",
    "    )\n",
    "topFollowers[[\"User\"]] #,\"Follower Count\"\n",
    "new_topFollowers = topFollowers.set_index(['User'])\n",
    "\n",
    "del new_topFollowers.index.name\n",
    "\n",
    "# new_topFollowers[\"Mutual Followers\"] = 0\n",
    "new_topFollowers.index.value_counts()\n",
    "\n",
    "#most popular from following lists\n",
    "\n"
   ]
  },
  {
   "cell_type": "markdown",
   "metadata": {},
   "source": [
    "# Mutual Follower Frequency"
   ]
  },
  {
   "cell_type": "code",
   "execution_count": null,
   "metadata": {
    "collapsed": true
   },
   "outputs": [],
   "source": [
    "# get number of occurances of each user\n",
    "popular_follow = new_topFollowers.index.value_counts().to_frame().reset_index()\n",
    "popular_follow.head(15)\n",
    "\n",
    "popular_follow.to_csv('follower_frequency.csv', index=False)"
   ]
  },
  {
   "cell_type": "markdown",
   "metadata": {},
   "source": [
    "# Frequency Within News Source List"
   ]
  },
  {
   "cell_type": "code",
   "execution_count": null,
   "metadata": {
    "collapsed": true
   },
   "outputs": [],
   "source": [
    "#News Sources\n",
    "newsTwitter = ['reuters', 'nytimes','washingtonpost', 'buzzfeednews',\n",
    "        'cnn','realdonaldtrump', 'berniesanders','hillaryclinton',\n",
    "        'foxnews', 'breitbartnews','seanhannity', 'mike_pence', 'richardbspencer',\n",
    "          'GlennBeck', 'rnc', 'tomilahren', 'espn', 'npr','KimKardashian']\n",
    "\n",
    "# put results of news matching\n",
    "newsMatch = []\n",
    "\n",
    "for x in new_topFollowers.index:\n",
    "    # if one of the names matches something in our list of news sources:\n",
    "    if x.lower() in newsTwitter:\n",
    "        # print(x)\n",
    "        newsMatch.append(x)\n",
    "\n",
    "# create data frame based on results\n",
    "newsDf = pd.DataFrame(\n",
    "        {   \"User\": newsMatch,             \n",
    "        }\n",
    "    )    \n",
    "\n",
    "# get value caounts of each that matched #might throw error, check later\n",
    "newsDf = newsDf[\"User\"].value_counts()\n",
    "\n",
    "newsDf.to_frame()\n",
    "\n",
    "\n",
    "newsDf.to_csv('Pop_Following.csv')"
   ]
  },
  {
   "cell_type": "code",
   "execution_count": null,
   "metadata": {
    "collapsed": true
   },
   "outputs": [],
   "source": []
  },
  {
   "cell_type": "code",
   "execution_count": null,
   "metadata": {
    "collapsed": true
   },
   "outputs": [],
   "source": []
  }
 ],
 "metadata": {
  "kernelspec": {
   "display_name": "Python [conda env:PythonData]",
   "language": "python",
   "name": "conda-env-PythonData-py"
  },
  "language_info": {
   "codemirror_mode": {
    "name": "ipython",
    "version": 3
   },
   "file_extension": ".py",
   "mimetype": "text/x-python",
   "name": "python",
   "nbconvert_exporter": "python",
   "pygments_lexer": "ipython3",
   "version": "3.6.1"
  }
 },
 "nbformat": 4,
 "nbformat_minor": 2
}
