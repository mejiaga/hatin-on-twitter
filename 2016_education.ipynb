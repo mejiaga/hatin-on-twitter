{
 "cells": [
  {
   "cell_type": "code",
   "execution_count": 1,
   "metadata": {
    "collapsed": true
   },
   "outputs": [],
   "source": [
    "import pandas as pd\n",
    "import requests as req\n",
    "import json"
   ]
  },
  {
   "cell_type": "code",
   "execution_count": 2,
   "metadata": {
    "collapsed": true
   },
   "outputs": [],
   "source": [
    "key = open(\"key.txt\").read()"
   ]
  },
  {
   "cell_type": "code",
   "execution_count": 3,
   "metadata": {
    "collapsed": true
   },
   "outputs": [],
   "source": [
    "# Numbers associated with each state to run through get requests\n",
    "state_nums = ['01', '02', '03', '04', '05', '06', '07', '08', '09', '10', '11', '12', '13', '14', '15', '16', '17', '18',\n",
    "             '19', '20', '21', '22', '23', '24', '25', '26', '27', '28', '29', '30','31','32','33','34','35','36','37','38',\n",
    "             '39','40','41','42','43','44','45','46','47','48','49','50','51','52','53','54','55','56']"
   ]
  },
  {
   "cell_type": "code",
   "execution_count": 4,
   "metadata": {
    "collapsed": true
   },
   "outputs": [],
   "source": [
    "# Parameters for keys (state names)\n",
    "url = \"http://api.census.gov/data/2016/acs/acs1?\"\n",
    "target_get = 'NAME,B01001_002E'\n",
    "target_for = 'state:'\n",
    "\n",
    "# Make a list of state names\n",
    "states = []\n",
    "\n",
    "for num in state_nums:\n",
    "    \n",
    "    # Build query url\n",
    "    query_url = url+ \"get=\" + target_get + \"&for=\" + target_for + num + \"&key=\" + key\n",
    "    \n",
    "    try:\n",
    "        # Get data\n",
    "        state_data = req.get(query_url).json()\n",
    "        \n",
    "        # Getting state name\n",
    "        name = state_data[1][0]\n",
    "        states.append(name)\n",
    "    except:\n",
    "        continue"
   ]
  },
  {
   "cell_type": "code",
   "execution_count": 13,
   "metadata": {
    "collapsed": true
   },
   "outputs": [],
   "source": [
    "# Parameters for percent high school grad or higher\n",
    "url = \"http://api.census.gov/data/2016/acs/acs1/profile?\"\n",
    "target_get = 'DP02_0066PE'\n",
    "target_for = 'state:'\n",
    "\n",
    "# Empty list for percent high school grad or higher\n",
    "hs_over = []\n",
    "\n",
    "for num in state_nums:\n",
    "    \n",
    "    # Build query_url\n",
    "    query_url = url + \"get=\" + target_get + \"&for=\" + target_for + num + \"&key=\" + key\n",
    "    \n",
    "    try:\n",
    "        # Get data\n",
    "        state_data = req.get(query_url).json()\n",
    "        \n",
    "        # Store data\n",
    "        number = state_data[1][0]\n",
    "        hs_over.append(number)\n",
    "    except:\n",
    "        continue"
   ]
  },
  {
   "cell_type": "code",
   "execution_count": 14,
   "metadata": {
    "collapsed": true
   },
   "outputs": [],
   "source": [
    "# Parameters for percent bachelor's degree or higher\n",
    "url = \"http://api.census.gov/data/2016/acs/acs1/profile?\"\n",
    "target_get = 'DP02_0067PE'\n",
    "target_for = 'state:'\n",
    "\n",
    "# Empty list for percent bachelor's degree or higher\n",
    "bach_over = []\n",
    "\n",
    "for num in state_nums:\n",
    "    \n",
    "    # Build query_url\n",
    "    query_url = url + \"get=\" + target_get + \"&for=\" + target_for + num + \"&key=\" + key\n",
    "    \n",
    "    try:\n",
    "        # Get data\n",
    "        state_data = req.get(query_url).json()\n",
    "        \n",
    "        # Store data\n",
    "        number = state_data[1][0]\n",
    "        bach_over.append(number)\n",
    "    except:\n",
    "        continue"
   ]
  }
 ],
 "metadata": {
  "kernelspec": {
   "display_name": "Python [conda env:PythonData]",
   "language": "python",
   "name": "conda-env-PythonData-py"
  },
  "language_info": {
   "codemirror_mode": {
    "name": "ipython",
    "version": 3
   },
   "file_extension": ".py",
   "mimetype": "text/x-python",
   "name": "python",
   "nbconvert_exporter": "python",
   "pygments_lexer": "ipython3",
   "version": "3.6.1"
  }
 },
 "nbformat": 4,
 "nbformat_minor": 2
}
