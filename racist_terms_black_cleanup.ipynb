{
 "cells": [
  {
   "cell_type": "code",
   "execution_count": 7,
   "metadata": {
    "collapsed": true
   },
   "outputs": [],
   "source": [
    "import pandas as pd\n",
    "import numpy as np"
   ]
  },
  {
   "cell_type": "code",
   "execution_count": 8,
   "metadata": {
    "collapsed": true
   },
   "outputs": [],
   "source": [
    "#read in csv\n",
    "black_racism = pd.read_csv('racist_terms_black.csv', header = None)"
   ]
  },
  {
   "cell_type": "code",
   "execution_count": 9,
   "metadata": {},
   "outputs": [
    {
     "data": {
      "text/html": [
       "<div>\n",
       "<style>\n",
       "    .dataframe thead tr:only-child th {\n",
       "        text-align: right;\n",
       "    }\n",
       "\n",
       "    .dataframe thead th {\n",
       "        text-align: left;\n",
       "    }\n",
       "\n",
       "    .dataframe tbody tr th {\n",
       "        vertical-align: top;\n",
       "    }\n",
       "</style>\n",
       "<table border=\"1\" class=\"dataframe\">\n",
       "  <thead>\n",
       "    <tr style=\"text-align: right;\">\n",
       "      <th></th>\n",
       "      <th>0</th>\n",
       "      <th>1</th>\n",
       "      <th>2</th>\n",
       "    </tr>\n",
       "  </thead>\n",
       "  <tbody>\n",
       "    <tr>\n",
       "      <th>0</th>\n",
       "      <td>NaN</td>\n",
       "      <td>Blacks</td>\n",
       "      <td>Arabic term that means Black, many Middle East...</td>\n",
       "    </tr>\n",
       "    <tr>\n",
       "      <th>1</th>\n",
       "      <td>African't</td>\n",
       "      <td>Blacks</td>\n",
       "      <td>Unemployed/lazy Blacks</td>\n",
       "    </tr>\n",
       "    <tr>\n",
       "      <th>2</th>\n",
       "      <td>Americoon</td>\n",
       "      <td>Blacks</td>\n",
       "      <td>Combination of American and Coon.</td>\n",
       "    </tr>\n",
       "    <tr>\n",
       "      <th>3</th>\n",
       "      <td>NaN</td>\n",
       "      <td>Blacks</td>\n",
       "      <td>Self Explanatory.</td>\n",
       "    </tr>\n",
       "    <tr>\n",
       "      <th>4</th>\n",
       "      <td>Aunt Jemima</td>\n",
       "      <td>Blacks</td>\n",
       "      <td>After the stereotypically Black trademark pict...</td>\n",
       "    </tr>\n",
       "  </tbody>\n",
       "</table>\n",
       "</div>"
      ],
      "text/plain": [
       "             0       1                                                  2\n",
       "0          NaN  Blacks  Arabic term that means Black, many Middle East...\n",
       "1    African't  Blacks                             Unemployed/lazy Blacks\n",
       "2    Americoon  Blacks                  Combination of American and Coon.\n",
       "3          NaN  Blacks                                  Self Explanatory.\n",
       "4  Aunt Jemima  Blacks  After the stereotypically Black trademark pict..."
      ]
     },
     "execution_count": 9,
     "metadata": {},
     "output_type": "execute_result"
    }
   ],
   "source": [
    "black_racism.head()"
   ]
  },
  {
   "cell_type": "code",
   "execution_count": 10,
   "metadata": {
    "collapsed": true
   },
   "outputs": [],
   "source": [
    "black_racism = black_racism[0].dropna()"
   ]
  },
  {
   "cell_type": "code",
   "execution_count": 13,
   "metadata": {},
   "outputs": [
    {
     "data": {
      "text/plain": [
       "71"
      ]
     },
     "execution_count": 13,
     "metadata": {},
     "output_type": "execute_result"
    }
   ],
   "source": [
    "len(black_racism)"
   ]
  },
  {
   "cell_type": "code",
   "execution_count": 11,
   "metadata": {
    "collapsed": true
   },
   "outputs": [],
   "source": [
    "racist_terms_black = black_racism.tolist()"
   ]
  },
  {
   "cell_type": "code",
   "execution_count": 12,
   "metadata": {},
   "outputs": [
    {
     "data": {
      "text/plain": [
       "[\"African't\",\n",
       " 'Americoon',\n",
       " 'Aunt Jemima',\n",
       " 'Banjo Lips',\n",
       " 'Biscuit Lip',\n",
       " 'Blackie',\n",
       " 'Bo-Bo',\n",
       " 'Bonky',\n",
       " 'Boogat',\n",
       " 'Boogie',\n",
       " 'Boon',\n",
       " 'Bumper Lips',\n",
       " 'Buppie',\n",
       " 'Camel Lips',\n",
       " 'Chain Dragger',\n",
       " 'Chicken Bandit',\n",
       " 'Cliff Ape',\n",
       " 'Coon',\n",
       " 'Cotton-Picker',\n",
       " 'Curb-Biter',\n",
       " 'Darkie',\n",
       " 'Field Nigger',\n",
       " 'Ghetto Hamster',\n",
       " 'Ghetto Monkey',\n",
       " 'Guttermonkey',\n",
       " 'House Nigger',\n",
       " 'Hutch',\n",
       " 'Jig',\n",
       " 'Jigaboo',\n",
       " 'Jigga',\n",
       " 'Jungle Bunny',\n",
       " 'Knuckle-Dragger',\n",
       " 'Liver Lips',\n",
       " 'Liverlips',\n",
       " 'Magila Gorilla',\n",
       " 'Mammy',\n",
       " 'Monkeyboy',\n",
       " 'Muffin-head',\n",
       " 'Mulunyan',\n",
       " \"N'er\",\n",
       " 'Nappy Head',\n",
       " 'Negress',\n",
       " 'Negro',\n",
       " 'Negroid',\n",
       " 'Nigger',\n",
       " 'Niggerachi',\n",
       " 'Niggerette',\n",
       " 'Niggerino',\n",
       " 'Nigglet',\n",
       " 'Nigra',\n",
       " 'Patio Primate',\n",
       " 'Point-Six',\n",
       " 'Porch Monkey',\n",
       " 'Pube Head',\n",
       " 'Rope-Head',\n",
       " 'Shvatsa',\n",
       " 'Shvooga',\n",
       " 'Spade',\n",
       " 'Spear-Chucker',\n",
       " 'Spook',\n",
       " 'Strap Hangers',\n",
       " 'Swamp Donkey',\n",
       " 'Swamper',\n",
       " 'Thick Lips',\n",
       " 'Tutsoon',\n",
       " 'Unemployus Africanus',\n",
       " 'Velcro-head',\n",
       " 'Welfare Monkey',\n",
       " 'Yard Ape',\n",
       " 'Zigaboo',\n",
       " 'Zoo Ape']"
      ]
     },
     "execution_count": 12,
     "metadata": {},
     "output_type": "execute_result"
    }
   ],
   "source": [
    "racist_terms_black"
   ]
  },
  {
   "cell_type": "raw",
   "metadata": {
    "collapsed": true
   },
   "source": []
  },
  {
   "cell_type": "code",
   "execution_count": null,
   "metadata": {
    "collapsed": true
   },
   "outputs": [],
   "source": []
  }
 ],
 "metadata": {
  "kernelspec": {
   "display_name": "Python [conda env:PythonData]",
   "language": "python",
   "name": "conda-env-PythonData-py"
  },
  "language_info": {
   "codemirror_mode": {
    "name": "ipython",
    "version": 3
   },
   "file_extension": ".py",
   "mimetype": "text/x-python",
   "name": "python",
   "nbconvert_exporter": "python",
   "pygments_lexer": "ipython3",
   "version": "3.6.1"
  }
 },
 "nbformat": 4,
 "nbformat_minor": 2
}
