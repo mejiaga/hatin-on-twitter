{
 "cells": [
  {
   "cell_type": "code",
   "execution_count": 28,
   "metadata": {
    "collapsed": true
   },
   "outputs": [],
   "source": [
    "import pandas as pd\n",
    "import matplotlib.pyplot as plt\n",
    "import seaborn as sns\n",
    "import numpy as np"
   ]
  },
  {
   "cell_type": "code",
   "execution_count": 29,
   "metadata": {
    "collapsed": true
   },
   "outputs": [],
   "source": [
    "total = pd.read_csv(\"../all_together_scores.csv\")"
   ]
  },
  {
   "cell_type": "code",
   "execution_count": 30,
   "metadata": {},
   "outputs": [
    {
     "data": {
      "text/html": [
       "<div>\n",
       "<style>\n",
       "    .dataframe thead tr:only-child th {\n",
       "        text-align: right;\n",
       "    }\n",
       "\n",
       "    .dataframe thead th {\n",
       "        text-align: left;\n",
       "    }\n",
       "\n",
       "    .dataframe tbody tr th {\n",
       "        vertical-align: top;\n",
       "    }\n",
       "</style>\n",
       "<table border=\"1\" class=\"dataframe\">\n",
       "  <thead>\n",
       "    <tr style=\"text-align: right;\">\n",
       "      <th></th>\n",
       "      <th>Unnamed: 0</th>\n",
       "      <th># favorite of tweet</th>\n",
       "      <th># followers</th>\n",
       "      <th># following</th>\n",
       "      <th># of hastags</th>\n",
       "      <th># of mentions</th>\n",
       "      <th># retweets of tweet</th>\n",
       "      <th>account creation date</th>\n",
       "      <th>in reply to</th>\n",
       "      <th>location</th>\n",
       "      <th>name</th>\n",
       "      <th>number of account tweets</th>\n",
       "      <th>phrase</th>\n",
       "      <th>race</th>\n",
       "      <th>screen name</th>\n",
       "      <th>time</th>\n",
       "      <th>tweet</th>\n",
       "      <th>user id</th>\n",
       "      <th>classification</th>\n",
       "      <th>compound score</th>\n",
       "    </tr>\n",
       "  </thead>\n",
       "  <tbody>\n",
       "    <tr>\n",
       "      <th>0</th>\n",
       "      <td>0</td>\n",
       "      <td>0.0</td>\n",
       "      <td>1035.0</td>\n",
       "      <td>695.0</td>\n",
       "      <td>0.0</td>\n",
       "      <td>0.0</td>\n",
       "      <td>1.0</td>\n",
       "      <td>Mon May 10 20:46:10 +0000 2010</td>\n",
       "      <td>NaN</td>\n",
       "      <td>Los Angeles, CA</td>\n",
       "      <td>Daunté L. Guapo</td>\n",
       "      <td>46837.0</td>\n",
       "      <td>black people are</td>\n",
       "      <td>black</td>\n",
       "      <td>TheAntiThirst</td>\n",
       "      <td>Sun Sep 24 23:43:48 +0000 2017</td>\n",
       "      <td>\"Black Men are the White People of Black Peopl...</td>\n",
       "      <td>1.424148e+08</td>\n",
       "      <td>Hate speech</td>\n",
       "      <td>0.0000</td>\n",
       "    </tr>\n",
       "    <tr>\n",
       "      <th>1</th>\n",
       "      <td>1</td>\n",
       "      <td>0.0</td>\n",
       "      <td>3418.0</td>\n",
       "      <td>848.0</td>\n",
       "      <td>0.0</td>\n",
       "      <td>0.0</td>\n",
       "      <td>0.0</td>\n",
       "      <td>Fri Apr 18 00:04:37 +0000 2014</td>\n",
       "      <td>NaN</td>\n",
       "      <td>Brooklyn, NY</td>\n",
       "      <td>⬛️Laid Protester⬛️</td>\n",
       "      <td>17894.0</td>\n",
       "      <td>black people are</td>\n",
       "      <td>black</td>\n",
       "      <td>elsajustelsa</td>\n",
       "      <td>Sun Sep 24 23:41:47 +0000 2017</td>\n",
       "      <td>If you are still whining about that \"Straight ...</td>\n",
       "      <td>2.490905e+09</td>\n",
       "      <td>Neither</td>\n",
       "      <td>0.3612</td>\n",
       "    </tr>\n",
       "    <tr>\n",
       "      <th>2</th>\n",
       "      <td>2</td>\n",
       "      <td>0.0</td>\n",
       "      <td>2700.0</td>\n",
       "      <td>933.0</td>\n",
       "      <td>0.0</td>\n",
       "      <td>2.0</td>\n",
       "      <td>0.0</td>\n",
       "      <td>Mon Oct 24 06:42:43 +0000 2011</td>\n",
       "      <td>2.930299e+09</td>\n",
       "      <td>Boston, MA</td>\n",
       "      <td>Jared Valdez</td>\n",
       "      <td>3159.0</td>\n",
       "      <td>black people are</td>\n",
       "      <td>black</td>\n",
       "      <td>jaredvaldez4</td>\n",
       "      <td>Sun Sep 24 23:41:42 +0000 2017</td>\n",
       "      <td>@CrosswaIk @pewdiepie The fact that you said b...</td>\n",
       "      <td>3.970838e+08</td>\n",
       "      <td>Hate speech</td>\n",
       "      <td>0.0000</td>\n",
       "    </tr>\n",
       "    <tr>\n",
       "      <th>3</th>\n",
       "      <td>3</td>\n",
       "      <td>0.0</td>\n",
       "      <td>458.0</td>\n",
       "      <td>857.0</td>\n",
       "      <td>0.0</td>\n",
       "      <td>4.0</td>\n",
       "      <td>0.0</td>\n",
       "      <td>Fri Mar 04 18:31:03 +0000 2011</td>\n",
       "      <td>5.298014e+08</td>\n",
       "      <td>Iowa</td>\n",
       "      <td>TheDarkMosesReturns</td>\n",
       "      <td>19553.0</td>\n",
       "      <td>black people are</td>\n",
       "      <td>black</td>\n",
       "      <td>TweeterMoses</td>\n",
       "      <td>Sun Sep 24 23:41:26 +0000 2017</td>\n",
       "      <td>@MotherenSandra @FoxNews @POTUS @NFL Never hea...</td>\n",
       "      <td>2.608420e+08</td>\n",
       "      <td>Neither</td>\n",
       "      <td>0.0000</td>\n",
       "    </tr>\n",
       "    <tr>\n",
       "      <th>4</th>\n",
       "      <td>4</td>\n",
       "      <td>0.0</td>\n",
       "      <td>34.0</td>\n",
       "      <td>80.0</td>\n",
       "      <td>0.0</td>\n",
       "      <td>2.0</td>\n",
       "      <td>0.0</td>\n",
       "      <td>Mon Jun 06 20:29:37 +0000 2016</td>\n",
       "      <td>7.992877e+17</td>\n",
       "      <td>Tennessee, USA</td>\n",
       "      <td>Donald J Trump</td>\n",
       "      <td>109.0</td>\n",
       "      <td>black people are</td>\n",
       "      <td>black</td>\n",
       "      <td>potus45ofUSA</td>\n",
       "      <td>Sun Sep 24 23:41:03 +0000 2017</td>\n",
       "      <td>@KathySc65174870 @teacherfortrump Kathy, it wa...</td>\n",
       "      <td>7.399172e+17</td>\n",
       "      <td>Hate speech</td>\n",
       "      <td>-0.3818</td>\n",
       "    </tr>\n",
       "  </tbody>\n",
       "</table>\n",
       "</div>"
      ],
      "text/plain": [
       "   Unnamed: 0  # favorite of tweet  # followers  # following  # of hastags  \\\n",
       "0           0                  0.0       1035.0        695.0           0.0   \n",
       "1           1                  0.0       3418.0        848.0           0.0   \n",
       "2           2                  0.0       2700.0        933.0           0.0   \n",
       "3           3                  0.0        458.0        857.0           0.0   \n",
       "4           4                  0.0         34.0         80.0           0.0   \n",
       "\n",
       "   # of mentions  # retweets of tweet           account creation date  \\\n",
       "0            0.0                  1.0  Mon May 10 20:46:10 +0000 2010   \n",
       "1            0.0                  0.0  Fri Apr 18 00:04:37 +0000 2014   \n",
       "2            2.0                  0.0  Mon Oct 24 06:42:43 +0000 2011   \n",
       "3            4.0                  0.0  Fri Mar 04 18:31:03 +0000 2011   \n",
       "4            2.0                  0.0  Mon Jun 06 20:29:37 +0000 2016   \n",
       "\n",
       "    in reply to         location                 name  \\\n",
       "0           NaN  Los Angeles, CA      Daunté L. Guapo   \n",
       "1           NaN     Brooklyn, NY   ⬛️Laid Protester⬛️   \n",
       "2  2.930299e+09       Boston, MA         Jared Valdez   \n",
       "3  5.298014e+08             Iowa  TheDarkMosesReturns   \n",
       "4  7.992877e+17   Tennessee, USA       Donald J Trump   \n",
       "\n",
       "   number of account tweets            phrase   race    screen name  \\\n",
       "0                   46837.0  black people are  black  TheAntiThirst   \n",
       "1                   17894.0  black people are  black   elsajustelsa   \n",
       "2                    3159.0  black people are  black   jaredvaldez4   \n",
       "3                   19553.0  black people are  black   TweeterMoses   \n",
       "4                     109.0  black people are  black   potus45ofUSA   \n",
       "\n",
       "                             time  \\\n",
       "0  Sun Sep 24 23:43:48 +0000 2017   \n",
       "1  Sun Sep 24 23:41:47 +0000 2017   \n",
       "2  Sun Sep 24 23:41:42 +0000 2017   \n",
       "3  Sun Sep 24 23:41:26 +0000 2017   \n",
       "4  Sun Sep 24 23:41:03 +0000 2017   \n",
       "\n",
       "                                               tweet       user id  \\\n",
       "0  \"Black Men are the White People of Black Peopl...  1.424148e+08   \n",
       "1  If you are still whining about that \"Straight ...  2.490905e+09   \n",
       "2  @CrosswaIk @pewdiepie The fact that you said b...  3.970838e+08   \n",
       "3  @MotherenSandra @FoxNews @POTUS @NFL Never hea...  2.608420e+08   \n",
       "4  @KathySc65174870 @teacherfortrump Kathy, it wa...  7.399172e+17   \n",
       "\n",
       "  classification  compound score  \n",
       "0    Hate speech          0.0000  \n",
       "1        Neither          0.3612  \n",
       "2    Hate speech          0.0000  \n",
       "3        Neither          0.0000  \n",
       "4    Hate speech         -0.3818  "
      ]
     },
     "execution_count": 30,
     "metadata": {},
     "output_type": "execute_result"
    }
   ],
   "source": [
    "total_df = pd.DataFrame(total)\n",
    "total_df.head()"
   ]
  },
  {
   "cell_type": "code",
   "execution_count": 31,
   "metadata": {},
   "outputs": [
    {
     "data": {
      "text/plain": [
       "Neither               5106\n",
       "Hate speech           4228\n",
       "Offensive language     175\n",
       "Name: classification, dtype: int64"
      ]
     },
     "execution_count": 31,
     "metadata": {},
     "output_type": "execute_result"
    }
   ],
   "source": [
    "tweet_types = total_df['classification'].value_counts()\n",
    "tweet_types"
   ]
  },
  {
   "cell_type": "code",
   "execution_count": 32,
   "metadata": {},
   "outputs": [
    {
     "data": {
      "text/plain": [
       "Index(['Neither', 'Hate speech', 'Offensive language'], dtype='object')"
      ]
     },
     "execution_count": 32,
     "metadata": {},
     "output_type": "execute_result"
    }
   ],
   "source": [
    "labels = tweet_types.index\n",
    "labels"
   ]
  },
  {
   "cell_type": "code",
   "execution_count": 33,
   "metadata": {
    "collapsed": true
   },
   "outputs": [],
   "source": [
    "total_tweets = tweet_types.sum()\n",
    "neither = tweet_types['Neither']\n",
    "hate = tweet_types['Hate speech']\n",
    "offensive = tweet_types['Offensive language']"
   ]
  },
  {
   "cell_type": "code",
   "execution_count": 34,
   "metadata": {
    "collapsed": true
   },
   "outputs": [],
   "source": [
    "neither_p = neither/total_tweets\n",
    "hate_p = hate/total_tweets\n",
    "offensive_p = offensive/total_tweets"
   ]
  },
  {
   "cell_type": "code",
   "execution_count": 35,
   "metadata": {},
   "outputs": [
    {
     "data": {
      "image/png": "[encoded data removed]",
      "text/plain": [
       "<matplotlib.figure.Figure at 0x161c43e6278>"
      ]
     },
     "metadata": {},
     "output_type": "display_data"
    }
   ],
   "source": [
    "colors = ['#c0deed','darkorange', '#0084B4']\n",
    "plt.pie([neither_p, hate_p, offensive_p], labels=['Neither', 'Hate Speech', 'Offensive Language'], autopct='%1.1f%%',\n",
    "        explode=[0,0.1,0], colors=colors)\n",
    "plt.title(\"Tweet Types\")\n",
    "plt.axis('equal')\n",
    "\n",
    "plt.savefig(\"../Images/tweet_types.png\", bbox_inches='tight')\n",
    "\n",
    "plt.show()"
   ]
  },
  {
   "cell_type": "code",
   "execution_count": null,
   "metadata": {
    "collapsed": true
   },
   "outputs": [],
   "source": []
  }
 ],
 "metadata": {
  "kernelspec": {
   "display_name": "Python [conda env:PythonData]",
   "language": "python",
   "name": "conda-env-PythonData-py"
  },
  "language_info": {
   "codemirror_mode": {
    "name": "ipython",
    "version": 3
   },
   "file_extension": ".py",
   "mimetype": "text/x-python",
   "name": "python",
   "nbconvert_exporter": "python",
   "pygments_lexer": "ipython3",
   "version": "3.6.1"
  }
 },
 "nbformat": 4,
 "nbformat_minor": 2
}
