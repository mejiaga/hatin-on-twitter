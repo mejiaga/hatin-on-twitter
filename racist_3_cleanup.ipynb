{
 "cells": [
  {
   "cell_type": "code",
   "execution_count": 2,
   "metadata": {
    "collapsed": true
   },
   "outputs": [],
   "source": [
    "import pandas as pd"
   ]
  },
  {
   "cell_type": "code",
   "execution_count": 3,
   "metadata": {
    "collapsed": true
   },
   "outputs": [],
   "source": [
    "racist3_df = pd.read_csv('racist_3.csv')"
   ]
  },
  {
   "cell_type": "code",
   "execution_count": 4,
   "metadata": {},
   "outputs": [
    {
     "data": {
      "text/html": [
       "<div>\n",
       "<style>\n",
       "    .dataframe thead tr:only-child th {\n",
       "        text-align: right;\n",
       "    }\n",
       "\n",
       "    .dataframe thead th {\n",
       "        text-align: left;\n",
       "    }\n",
       "\n",
       "    .dataframe tbody tr th {\n",
       "        vertical-align: top;\n",
       "    }\n",
       "</style>\n",
       "<table border=\"1\" class=\"dataframe\">\n",
       "  <thead>\n",
       "    <tr style=\"text-align: right;\">\n",
       "      <th></th>\n",
       "      <th>Unnamed: 0</th>\n",
       "      <th># favorite of tweet</th>\n",
       "      <th># followers</th>\n",
       "      <th># following</th>\n",
       "      <th># of hastags</th>\n",
       "      <th># of mentions</th>\n",
       "      <th># retweets of tweet</th>\n",
       "      <th>account creation date</th>\n",
       "      <th>in reply to</th>\n",
       "      <th>location</th>\n",
       "      <th>name</th>\n",
       "      <th>number of account tweets</th>\n",
       "      <th>phrase</th>\n",
       "      <th>race</th>\n",
       "      <th>screen name</th>\n",
       "      <th>time</th>\n",
       "      <th>tweet</th>\n",
       "      <th>user id</th>\n",
       "    </tr>\n",
       "  </thead>\n",
       "  <tbody>\n",
       "    <tr>\n",
       "      <th>0</th>\n",
       "      <td>0</td>\n",
       "      <td>0.0</td>\n",
       "      <td>1994.0</td>\n",
       "      <td>1163.0</td>\n",
       "      <td>0.0</td>\n",
       "      <td>0.0</td>\n",
       "      <td>0.0</td>\n",
       "      <td>Tue Jun 13 14:56:48 +0000 2017</td>\n",
       "      <td>NaN</td>\n",
       "      <td>Detroit, MI</td>\n",
       "      <td>BLM</td>\n",
       "      <td>22648.0</td>\n",
       "      <td>jigaboo</td>\n",
       "      <td>black</td>\n",
       "      <td>blackalive_</td>\n",
       "      <td>Tue Sep 26 15:36:03 +0000 2017</td>\n",
       "      <td>Sheriff David Clarke calls Marc Lamont Hill a ...</td>\n",
       "      <td>8.746417e+17</td>\n",
       "    </tr>\n",
       "    <tr>\n",
       "      <th>1</th>\n",
       "      <td>1</td>\n",
       "      <td>1.0</td>\n",
       "      <td>104.0</td>\n",
       "      <td>103.0</td>\n",
       "      <td>0.0</td>\n",
       "      <td>0.0</td>\n",
       "      <td>0.0</td>\n",
       "      <td>Thu Apr 12 01:17:58 +0000 2012</td>\n",
       "      <td>NaN</td>\n",
       "      <td>We really outchea tho, US</td>\n",
       "      <td>Young Capicola God</td>\n",
       "      <td>12855.0</td>\n",
       "      <td>jigaboo</td>\n",
       "      <td>black</td>\n",
       "      <td>slimerothstein0</td>\n",
       "      <td>Tue Sep 26 15:07:32 +0000 2017</td>\n",
       "      <td>Like, it seems as pointless an exercise as ret...</td>\n",
       "      <td>5.514639e+08</td>\n",
       "    </tr>\n",
       "    <tr>\n",
       "      <th>2</th>\n",
       "      <td>2</td>\n",
       "      <td>1.0</td>\n",
       "      <td>40.0</td>\n",
       "      <td>40.0</td>\n",
       "      <td>0.0</td>\n",
       "      <td>0.0</td>\n",
       "      <td>0.0</td>\n",
       "      <td>Fri Sep 15 22:01:19 +0000 2017</td>\n",
       "      <td>NaN</td>\n",
       "      <td>USA</td>\n",
       "      <td>Owly 🦉</td>\n",
       "      <td>107.0</td>\n",
       "      <td>jigaboo</td>\n",
       "      <td>black</td>\n",
       "      <td>TheOwlJolson</td>\n",
       "      <td>Tue Sep 26 08:17:21 +0000 2017</td>\n",
       "      <td>Real jigaboo hours. Who’s up?</td>\n",
       "      <td>9.088130e+17</td>\n",
       "    </tr>\n",
       "    <tr>\n",
       "      <th>3</th>\n",
       "      <td>3</td>\n",
       "      <td>1.0</td>\n",
       "      <td>488.0</td>\n",
       "      <td>825.0</td>\n",
       "      <td>0.0</td>\n",
       "      <td>0.0</td>\n",
       "      <td>0.0</td>\n",
       "      <td>Sun Aug 07 23:11:01 +0000 2016</td>\n",
       "      <td>NaN</td>\n",
       "      <td>Cincinnati, OH</td>\n",
       "      <td>CAMERON 😩🙌</td>\n",
       "      <td>836.0</td>\n",
       "      <td>jigaboo</td>\n",
       "      <td>black</td>\n",
       "      <td>Camaronii</td>\n",
       "      <td>Mon Sep 25 20:43:19 +0000 2017</td>\n",
       "      <td>This dude name is UgyGoddddd and he has the gu...</td>\n",
       "      <td>7.624258e+17</td>\n",
       "    </tr>\n",
       "    <tr>\n",
       "      <th>4</th>\n",
       "      <td>4</td>\n",
       "      <td>0.0</td>\n",
       "      <td>194.0</td>\n",
       "      <td>221.0</td>\n",
       "      <td>0.0</td>\n",
       "      <td>1.0</td>\n",
       "      <td>0.0</td>\n",
       "      <td>Sat Apr 27 21:55:45 +0000 2013</td>\n",
       "      <td>1.868573e+09</td>\n",
       "      <td>New York, USA</td>\n",
       "      <td>Juni</td>\n",
       "      <td>4855.0</td>\n",
       "      <td>jigaboo</td>\n",
       "      <td>black</td>\n",
       "      <td>juniman73</td>\n",
       "      <td>Mon Sep 25 15:59:17 +0000 2017</td>\n",
       "      <td>@_deneal If I called you jiggaboo would you ge...</td>\n",
       "      <td>1.385553e+09</td>\n",
       "    </tr>\n",
       "  </tbody>\n",
       "</table>\n",
       "</div>"
      ],
      "text/plain": [
       "  Unnamed: 0  # favorite of tweet  # followers  # following  # of hastags  \\\n",
       "0          0                  0.0       1994.0       1163.0           0.0   \n",
       "1          1                  1.0        104.0        103.0           0.0   \n",
       "2          2                  1.0         40.0         40.0           0.0   \n",
       "3          3                  1.0        488.0        825.0           0.0   \n",
       "4          4                  0.0        194.0        221.0           0.0   \n",
       "\n",
       "   # of mentions  # retweets of tweet           account creation date  \\\n",
       "0            0.0                  0.0  Tue Jun 13 14:56:48 +0000 2017   \n",
       "1            0.0                  0.0  Thu Apr 12 01:17:58 +0000 2012   \n",
       "2            0.0                  0.0  Fri Sep 15 22:01:19 +0000 2017   \n",
       "3            0.0                  0.0  Sun Aug 07 23:11:01 +0000 2016   \n",
       "4            1.0                  0.0  Sat Apr 27 21:55:45 +0000 2013   \n",
       "\n",
       "    in reply to                   location                name  \\\n",
       "0           NaN                Detroit, MI                 BLM   \n",
       "1           NaN  We really outchea tho, US  Young Capicola God   \n",
       "2           NaN                        USA              Owly 🦉   \n",
       "3           NaN             Cincinnati, OH          CAMERON 😩🙌   \n",
       "4  1.868573e+09              New York, USA                Juni   \n",
       "\n",
       "   number of account tweets   phrase   race      screen name  \\\n",
       "0                   22648.0  jigaboo  black      blackalive_   \n",
       "1                   12855.0  jigaboo  black  slimerothstein0   \n",
       "2                     107.0  jigaboo  black     TheOwlJolson   \n",
       "3                     836.0  jigaboo  black        Camaronii   \n",
       "4                    4855.0  jigaboo  black        juniman73   \n",
       "\n",
       "                             time  \\\n",
       "0  Tue Sep 26 15:36:03 +0000 2017   \n",
       "1  Tue Sep 26 15:07:32 +0000 2017   \n",
       "2  Tue Sep 26 08:17:21 +0000 2017   \n",
       "3  Mon Sep 25 20:43:19 +0000 2017   \n",
       "4  Mon Sep 25 15:59:17 +0000 2017   \n",
       "\n",
       "                                               tweet       user id  \n",
       "0  Sheriff David Clarke calls Marc Lamont Hill a ...  8.746417e+17  \n",
       "1  Like, it seems as pointless an exercise as ret...  5.514639e+08  \n",
       "2                      Real jigaboo hours. Who’s up?  9.088130e+17  \n",
       "3  This dude name is UgyGoddddd and he has the gu...  7.624258e+17  \n",
       "4  @_deneal If I called you jiggaboo would you ge...  1.385553e+09  "
      ]
     },
     "execution_count": 4,
     "metadata": {},
     "output_type": "execute_result"
    }
   ],
   "source": [
    "racist3_df.head()"
   ]
  },
  {
   "cell_type": "code",
   "execution_count": 6,
   "metadata": {},
   "outputs": [
    {
     "data": {
      "text/plain": [
       "4476"
      ]
     },
     "execution_count": 6,
     "metadata": {},
     "output_type": "execute_result"
    }
   ],
   "source": [
    "len(racist3_df)"
   ]
  },
  {
   "cell_type": "code",
   "execution_count": 7,
   "metadata": {
    "collapsed": true
   },
   "outputs": [],
   "source": [
    "racist3_no_dup = racist3_df.drop_duplicates()"
   ]
  },
  {
   "cell_type": "code",
   "execution_count": 8,
   "metadata": {},
   "outputs": [
    {
     "data": {
      "text/plain": [
       "4476"
      ]
     },
     "execution_count": 8,
     "metadata": {},
     "output_type": "execute_result"
    }
   ],
   "source": [
    "len(racist3_no_dup)"
   ]
  },
  {
   "cell_type": "code",
   "execution_count": 9,
   "metadata": {
    "collapsed": true
   },
   "outputs": [],
   "source": [
    "racist3_clean = racist3_df.dropna(subset = ['tweet'])"
   ]
  },
  {
   "cell_type": "code",
   "execution_count": 10,
   "metadata": {},
   "outputs": [
    {
     "data": {
      "text/plain": [
       "4474"
      ]
     },
     "execution_count": 10,
     "metadata": {},
     "output_type": "execute_result"
    }
   ],
   "source": [
    "len(racist3_clean)"
   ]
  },
  {
   "cell_type": "code",
   "execution_count": 11,
   "metadata": {
    "collapsed": true
   },
   "outputs": [],
   "source": [
    "racist3_clean.to_csv('racist3_clean.csv', index = False)"
   ]
  },
  {
   "cell_type": "code",
   "execution_count": null,
   "metadata": {
    "collapsed": true
   },
   "outputs": [],
   "source": [
    "for index, row in racist_df.iterrows():\n",
    "    try:\n",
    "        text = row['tweet']\n",
    "        compound = analyzer.polarity_scores(text)['compound']\n",
    "        positive = analyzer.polarity_scores(text)['pos']\n",
    "        negative = analyzer.polarity_scores(text)['neg']\n",
    "        neutral = analyzer.polarity_scores(text)['neu']\n",
    "        racist_df.set_value(index, 'Sentiment Score', compound)\n",
    "        racist_df.set_value(index, 'Positive Score', positive)\n",
    "        racist_df.set_value(index, 'Negative Score', negative)\n",
    "        racist_df.set_value(index, 'Neutral Score', neutral)\n",
    "    except:\n",
    "        print('error at %s, %s' % (index, row['tweet']))"
   ]
  }
 ],
 "metadata": {
  "kernelspec": {
   "display_name": "Python [conda env:PythonData]",
   "language": "python",
   "name": "conda-env-PythonData-py"
  },
  "language_info": {
   "codemirror_mode": {
    "name": "ipython",
    "version": 3
   },
   "file_extension": ".py",
   "mimetype": "text/x-python",
   "name": "python",
   "nbconvert_exporter": "python",
   "pygments_lexer": "ipython3",
   "version": "3.6.1"
  }
 },
 "nbformat": 4,
 "nbformat_minor": 2
}
