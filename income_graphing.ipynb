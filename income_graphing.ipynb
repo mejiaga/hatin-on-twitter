{
 "cells": [
  {
   "cell_type": "code",
   "execution_count": 1,
   "metadata": {
    "collapsed": true
   },
   "outputs": [],
   "source": [
    "# Dependencies\n",
    "import pandas as pd\n",
    "import matplotlib.pyplot as plt\n",
    "import seaborn as sns\n",
    "import numpy as np"
   ]
  },
  {
   "cell_type": "code",
   "execution_count": 2,
   "metadata": {},
   "outputs": [
    {
     "data": {
      "text/html": [
       "<div>\n",
       "<style>\n",
       "    .dataframe thead tr:only-child th {\n",
       "        text-align: right;\n",
       "    }\n",
       "\n",
       "    .dataframe thead th {\n",
       "        text-align: left;\n",
       "    }\n",
       "\n",
       "    .dataframe tbody tr th {\n",
       "        vertical-align: top;\n",
       "    }\n",
       "</style>\n",
       "<table border=\"1\" class=\"dataframe\">\n",
       "  <thead>\n",
       "    <tr style=\"text-align: right;\">\n",
       "      <th></th>\n",
       "      <th>State</th>\n",
       "      <th>Total Population</th>\n",
       "      <th>State Abbr</th>\n",
       "      <th>black</th>\n",
       "      <th>jews</th>\n",
       "      <th>muslim</th>\n",
       "      <th>norm_black</th>\n",
       "      <th>norm_jewish</th>\n",
       "      <th>norm_muslim</th>\n",
       "      <th>total_count</th>\n",
       "      <th>total_norm</th>\n",
       "    </tr>\n",
       "  </thead>\n",
       "  <tbody>\n",
       "    <tr>\n",
       "      <th>40</th>\n",
       "      <td>Vermont</td>\n",
       "      <td>624594</td>\n",
       "      <td>VT</td>\n",
       "      <td>2.0</td>\n",
       "      <td>1.0</td>\n",
       "      <td>0.0</td>\n",
       "      <td>0.000320</td>\n",
       "      <td>0.000160</td>\n",
       "      <td>0.000000</td>\n",
       "      <td>3.0</td>\n",
       "      <td>0.000480</td>\n",
       "    </tr>\n",
       "    <tr>\n",
       "      <th>22</th>\n",
       "      <td>Mississippi</td>\n",
       "      <td>2988726</td>\n",
       "      <td>MS</td>\n",
       "      <td>5.0</td>\n",
       "      <td>1.0</td>\n",
       "      <td>7.0</td>\n",
       "      <td>0.000167</td>\n",
       "      <td>0.000033</td>\n",
       "      <td>0.000234</td>\n",
       "      <td>13.0</td>\n",
       "      <td>0.000435</td>\n",
       "    </tr>\n",
       "    <tr>\n",
       "      <th>7</th>\n",
       "      <td>Delaware</td>\n",
       "      <td>952065</td>\n",
       "      <td>DE</td>\n",
       "      <td>3.0</td>\n",
       "      <td>1.0</td>\n",
       "      <td>0.0</td>\n",
       "      <td>0.000315</td>\n",
       "      <td>0.000105</td>\n",
       "      <td>0.000000</td>\n",
       "      <td>4.0</td>\n",
       "      <td>0.000420</td>\n",
       "    </tr>\n",
       "    <tr>\n",
       "      <th>20</th>\n",
       "      <td>Michigan</td>\n",
       "      <td>9928300</td>\n",
       "      <td>MI</td>\n",
       "      <td>16.0</td>\n",
       "      <td>9.0</td>\n",
       "      <td>7.0</td>\n",
       "      <td>0.000161</td>\n",
       "      <td>0.000091</td>\n",
       "      <td>0.000071</td>\n",
       "      <td>32.0</td>\n",
       "      <td>0.000322</td>\n",
       "    </tr>\n",
       "    <tr>\n",
       "      <th>35</th>\n",
       "      <td>Rhode Island</td>\n",
       "      <td>1056426</td>\n",
       "      <td>RI</td>\n",
       "      <td>1.0</td>\n",
       "      <td>1.0</td>\n",
       "      <td>1.0</td>\n",
       "      <td>0.000095</td>\n",
       "      <td>0.000095</td>\n",
       "      <td>0.000095</td>\n",
       "      <td>3.0</td>\n",
       "      <td>0.000284</td>\n",
       "    </tr>\n",
       "  </tbody>\n",
       "</table>\n",
       "</div>"
      ],
      "text/plain": [
       "           State  Total Population State Abbr  black  jews  muslim  \\\n",
       "40       Vermont            624594         VT    2.0   1.0     0.0   \n",
       "22   Mississippi           2988726         MS    5.0   1.0     7.0   \n",
       "7       Delaware            952065         DE    3.0   1.0     0.0   \n",
       "20      Michigan           9928300         MI   16.0   9.0     7.0   \n",
       "35  Rhode Island           1056426         RI    1.0   1.0     1.0   \n",
       "\n",
       "    norm_black  norm_jewish  norm_muslim  total_count  total_norm  \n",
       "40    0.000320     0.000160     0.000000          3.0    0.000480  \n",
       "22    0.000167     0.000033     0.000234         13.0    0.000435  \n",
       "7     0.000315     0.000105     0.000000          4.0    0.000420  \n",
       "20    0.000161     0.000091     0.000071         32.0    0.000322  \n",
       "35    0.000095     0.000095     0.000095          3.0    0.000284  "
      ]
     },
     "execution_count": 2,
     "metadata": {},
     "output_type": "execute_result"
    }
   ],
   "source": [
    "# Reading in normalized data & cleaning up\n",
    "normalized_counts = pd.read_csv('normalized_counts.csv')\n",
    "del normalized_counts['Unnamed: 0']\n",
    "normalized_counts.drop(8, inplace=True)\n",
    "normalized_counts.sort_values('total_norm', ascending=False, inplace=True)\n",
    "normalized_counts.head()"
   ]
  },
  {
   "cell_type": "code",
   "execution_count": 7,
   "metadata": {},
   "outputs": [
    {
     "data": {
      "text/html": [
       "<div>\n",
       "<style>\n",
       "    .dataframe thead tr:only-child th {\n",
       "        text-align: right;\n",
       "    }\n",
       "\n",
       "    .dataframe thead th {\n",
       "        text-align: left;\n",
       "    }\n",
       "\n",
       "    .dataframe tbody tr th {\n",
       "        vertical-align: top;\n",
       "    }\n",
       "</style>\n",
       "<table border=\"1\" class=\"dataframe\">\n",
       "  <thead>\n",
       "    <tr style=\"text-align: right;\">\n",
       "      <th></th>\n",
       "      <th>State</th>\n",
       "      <th>Median</th>\n",
       "    </tr>\n",
       "  </thead>\n",
       "  <tbody>\n",
       "    <tr>\n",
       "      <th>0</th>\n",
       "      <td>Alabama</td>\n",
       "      <td>46257</td>\n",
       "    </tr>\n",
       "    <tr>\n",
       "      <th>1</th>\n",
       "      <td>Alaska</td>\n",
       "      <td>76440</td>\n",
       "    </tr>\n",
       "    <tr>\n",
       "      <th>2</th>\n",
       "      <td>Arizona</td>\n",
       "      <td>53558</td>\n",
       "    </tr>\n",
       "    <tr>\n",
       "      <th>3</th>\n",
       "      <td>Arkansas</td>\n",
       "      <td>44334</td>\n",
       "    </tr>\n",
       "    <tr>\n",
       "      <th>4</th>\n",
       "      <td>California</td>\n",
       "      <td>67739</td>\n",
       "    </tr>\n",
       "  </tbody>\n",
       "</table>\n",
       "</div>"
      ],
      "text/plain": [
       "        State  Median\n",
       "0     Alabama   46257\n",
       "1      Alaska   76440\n",
       "2     Arizona   53558\n",
       "3    Arkansas   44334\n",
       "4  California   67739"
      ]
     },
     "execution_count": 7,
     "metadata": {},
     "output_type": "execute_result"
    }
   ],
   "source": [
    "# Reading in income data\n",
    "income = pd.read_csv(\"census_data/2016_income.csv\", dtype={\"Median\": np.int32})\n",
    "income.rename(columns={\"Unnamed: 0\": \"State\"}, inplace=True)\n",
    "income = income[['State', 'Median']]\n",
    "income.head()"
   ]
  },
  {
   "cell_type": "code",
   "execution_count": 8,
   "metadata": {
    "collapsed": true
   },
   "outputs": [],
   "source": [
    "# Getting top 5 and bottom 5\n",
    "top_5 = normalized_counts.head()\n",
    "bottom_5 = normalized_counts.tail()"
   ]
  },
  {
   "cell_type": "code",
   "execution_count": 9,
   "metadata": {
    "collapsed": true
   },
   "outputs": [],
   "source": [
    "# Mergin income data\n",
    "top_5 = top_5.merge(income)\n",
    "bottom_5 = bottom_5.merge(income)"
   ]
  },
  {
   "cell_type": "markdown",
   "metadata": {},
   "source": [
    "# Top 5 States"
   ]
  },
  {
   "cell_type": "code",
   "execution_count": 13,
   "metadata": {},
   "outputs": [
    {
     "data": {
      "image/png": "[encoded data removed]",
      "text/plain": [
       "<matplotlib.figure.Figure at 0x2056e750cc0>"
      ]
     },
     "metadata": {},
     "output_type": "display_data"
    }
   ],
   "source": [
    "# x & y values\n",
    "x_axis = np.arange(5)\n",
    "y_axis = top_5['Median']\n",
    "\n",
    "plt.bar(x_axis, y_axis)\n",
    "    \n",
    "plt.title(\"Median Income for Top 5 States\")\n",
    "plt.xlabel(\"State\")\n",
    "plt.ylabel(\"Income\")\n",
    "\n",
    "x_labels = top_5['State']\n",
    "x_locations = [value for value in np.arange(5)]\n",
    "plt.xticks(x_locations, x_labels)\n",
    "\n",
    "plt.savefig(\"Images/income_top_5.png\", bbox_inches=\"tight\")\n",
    "\n",
    "plt.show()"
   ]
  },
  {
   "cell_type": "code",
   "execution_count": 14,
   "metadata": {},
   "outputs": [
    {
     "data": {
      "image/png": "[encoded data removed]",
      "text/plain": [
       "<matplotlib.figure.Figure at 0x2056e883128>"
      ]
     },
     "metadata": {},
     "output_type": "display_data"
    }
   ],
   "source": [
    "# x & y values\n",
    "x_axis = np.arange(5)\n",
    "y_axis = bottom_5['Median']\n",
    "\n",
    "plt.bar(x_axis, y_axis)\n",
    "    \n",
    "plt.title(\"Median Income for Bottom 5 States\")\n",
    "plt.xlabel(\"State\")\n",
    "plt.ylabel(\"Income\")\n",
    "\n",
    "x_labels = bottom_5['State']\n",
    "x_locations = [value for value in np.arange(5)]\n",
    "plt.xticks(x_locations, x_labels)\n",
    "\n",
    "plt.savefig(\"Images/income_bottom_5.png\", bbox_inches=\"tight\")\n",
    "\n",
    "plt.show()"
   ]
  },
  {
   "cell_type": "code",
   "execution_count": null,
   "metadata": {
    "collapsed": true
   },
   "outputs": [],
   "source": []
  }
 ],
 "metadata": {
  "kernelspec": {
   "display_name": "Python [conda env:PythonData]",
   "language": "python",
   "name": "conda-env-PythonData-py"
  },
  "language_info": {
   "codemirror_mode": {
    "name": "ipython",
    "version": 3
   },
   "file_extension": ".py",
   "mimetype": "text/x-python",
   "name": "python",
   "nbconvert_exporter": "python",
   "pygments_lexer": "ipython3",
   "version": "3.6.1"
  }
 },
 "nbformat": 4,
 "nbformat_minor": 2
}
