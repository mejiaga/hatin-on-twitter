{
 "cells": [
  {
   "cell_type": "code",
   "execution_count": 1,
   "metadata": {
    "collapsed": true
   },
   "outputs": [],
   "source": [
    "import pandas as pd\n",
    "import requests as req\n",
    "import json"
   ]
  },
  {
   "cell_type": "code",
   "execution_count": 2,
   "metadata": {
    "collapsed": true
   },
   "outputs": [],
   "source": [
    "key = open(\"key.txt\").read()"
   ]
  },
  {
   "cell_type": "code",
   "execution_count": 3,
   "metadata": {
    "collapsed": true
   },
   "outputs": [],
   "source": [
    "# Numbers associated with each state to run through get requests\n",
    "state_nums = ['01', '02', '03', '04', '05', '06', '07', '08', '09', '10', '11', '12', '13', '14', '15', '16', '17', '18',\n",
    "             '19', '20', '21', '22', '23', '24', '25', '26', '27', '28', '29', '30','31','32','33','34','35','36','37','38',\n",
    "             '39','40','41','42','43','44','45','46','47','48','49','50','51','52','53','54','55','56']"
   ]
  },
  {
   "cell_type": "code",
   "execution_count": 4,
   "metadata": {
    "collapsed": true
   },
   "outputs": [],
   "source": [
    "# Parameters for keys (state names)\n",
    "url = \"http://api.census.gov/data/2016/acs/acs1?\"\n",
    "target_get = 'NAME,B01001_002E'\n",
    "target_for = 'state:'\n",
    "\n",
    "# Make a list of state names\n",
    "states = []\n",
    "\n",
    "for num in state_nums:\n",
    "    \n",
    "    # Build query url\n",
    "    query_url = url+ \"get=\" + target_get + \"&for=\" + target_for + num + \"&key=\" + key\n",
    "    \n",
    "    try:\n",
    "        # Get data\n",
    "        state_data = req.get(query_url).json()\n",
    "        \n",
    "        # Getting state name\n",
    "        name = state_data[1][0]\n",
    "        states.append(name)\n",
    "    except:\n",
    "        continue"
   ]
  },
  {
   "cell_type": "code",
   "execution_count": 5,
   "metadata": {
    "collapsed": true
   },
   "outputs": [],
   "source": [
    "# Parameters for percent of households with income less than 10000\n",
    "url = \"http://api.census.gov/data/2016/acs/acs1/profile?\"\n",
    "target_get = 'DP03_0052PE'\n",
    "target_for = 'state:'\n",
    "\n",
    "# Empty list for percent of households with income less than 10000\n",
    "less_10k = []\n",
    "\n",
    "for num in state_nums:\n",
    "    \n",
    "    # Build query_url\n",
    "    query_url = url + \"get=\" + target_get + \"&for=\" + target_for + num + \"&key=\" + key\n",
    "    \n",
    "    try:\n",
    "        # Get data\n",
    "        state_data = req.get(query_url).json()\n",
    "        \n",
    "        # Store data\n",
    "        number = state_data[1][0]\n",
    "        less_10k.append(number)\n",
    "    except:\n",
    "        continue"
   ]
  },
  {
   "cell_type": "code",
   "execution_count": 6,
   "metadata": {
    "collapsed": true
   },
   "outputs": [],
   "source": [
    "# Parameters for percent of households with income 10k to 15k\n",
    "url = \"http://api.census.gov/data/2016/acs/acs1/profile?\"\n",
    "target_get = 'DP03_0053PE'\n",
    "target_for = 'state:'\n",
    "\n",
    "# Empty list for percent of households with income 10k to 15k\n",
    "in_10k_15k = []\n",
    "\n",
    "for num in state_nums:\n",
    "    \n",
    "    # Build query_url\n",
    "    query_url = url + \"get=\" + target_get + \"&for=\" + target_for + num + \"&key=\" + key\n",
    "    \n",
    "    try:\n",
    "        # Get data\n",
    "        state_data = req.get(query_url).json()\n",
    "        \n",
    "        # Store data\n",
    "        number = state_data[1][0]\n",
    "        in_10k_15k.append(number)\n",
    "    except:\n",
    "        continue"
   ]
  },
  {
   "cell_type": "code",
   "execution_count": 7,
   "metadata": {
    "collapsed": true
   },
   "outputs": [],
   "source": [
    "# Parameters for percent of households with income 15k to 25k\n",
    "url = \"http://api.census.gov/data/2016/acs/acs1/profile?\"\n",
    "target_get = 'DP03_0054PE'\n",
    "target_for = 'state:'\n",
    "\n",
    "# Empty list for percent of households with income 15k to 25k\n",
    "in_15k_25k = []\n",
    "\n",
    "for num in state_nums:\n",
    "    \n",
    "    # Build query_url\n",
    "    query_url = url + \"get=\" + target_get + \"&for=\" + target_for + num + \"&key=\" + key\n",
    "    \n",
    "    try:\n",
    "        # Get data\n",
    "        state_data = req.get(query_url).json()\n",
    "        \n",
    "        # Store data\n",
    "        number = state_data[1][0]\n",
    "        in_15k_25k.append(number)\n",
    "    except:\n",
    "        continue"
   ]
  },
  {
   "cell_type": "code",
   "execution_count": 8,
   "metadata": {
    "collapsed": true
   },
   "outputs": [],
   "source": [
    "# Parameters for percent of households with income 25k to 35k\n",
    "url = \"http://api.census.gov/data/2016/acs/acs1/profile?\"\n",
    "target_get = 'DP03_0055PE'\n",
    "target_for = 'state:'\n",
    "\n",
    "# Empty list for percent of households with income 25k to 35k\n",
    "in_25k_35k = []\n",
    "\n",
    "for num in state_nums:\n",
    "    \n",
    "    # Build query_url\n",
    "    query_url = url + \"get=\" + target_get + \"&for=\" + target_for + num + \"&key=\" + key\n",
    "    \n",
    "    try:\n",
    "        # Get data\n",
    "        state_data = req.get(query_url).json()\n",
    "        \n",
    "        # Store data\n",
    "        number = state_data[1][0]\n",
    "        in_25k_35k.append(number)\n",
    "    except:\n",
    "        continue"
   ]
  },
  {
   "cell_type": "code",
   "execution_count": 9,
   "metadata": {
    "collapsed": true
   },
   "outputs": [],
   "source": [
    "# Parameters for percent of households with income 35k to 50k\n",
    "url = \"http://api.census.gov/data/2016/acs/acs1/profile?\"\n",
    "target_get = 'DP03_0056PE'\n",
    "target_for = 'state:'\n",
    "\n",
    "# Empty list for percent of households with income 35k to 50k\n",
    "in_35k_50k = []\n",
    "\n",
    "for num in state_nums:\n",
    "    \n",
    "    # Build query_url\n",
    "    query_url = url + \"get=\" + target_get + \"&for=\" + target_for + num + \"&key=\" + key\n",
    "    \n",
    "    try:\n",
    "        # Get data\n",
    "        state_data = req.get(query_url).json()\n",
    "        \n",
    "        # Store data\n",
    "        number = state_data[1][0]\n",
    "        in_35k_50k.append(number)\n",
    "    except:\n",
    "        continue"
   ]
  },
  {
   "cell_type": "code",
   "execution_count": 10,
   "metadata": {
    "collapsed": true
   },
   "outputs": [],
   "source": [
    "# Parameters for percent of households with income 50k to 75k \n",
    "url = \"http://api.census.gov/data/2016/acs/acs1/profile?\"\n",
    "target_get = 'DP03_0057PE'\n",
    "target_for = 'state:'\n",
    "\n",
    "# Empty list for percent of households with income 50k to 75k\n",
    "in_50k_75k = []\n",
    "\n",
    "for num in state_nums:\n",
    "    \n",
    "    # Build query_url\n",
    "    query_url = url + \"get=\" + target_get + \"&for=\" + target_for + num + \"&key=\" + key\n",
    "    \n",
    "    try:\n",
    "        # Get data\n",
    "        state_data = req.get(query_url).json()\n",
    "        \n",
    "        # Store data\n",
    "        number = state_data[1][0]\n",
    "        in_50k_75k.append(number)\n",
    "    except:\n",
    "        continue"
   ]
  },
  {
   "cell_type": "code",
   "execution_count": 11,
   "metadata": {
    "collapsed": true
   },
   "outputs": [],
   "source": [
    "# Parameters for percent of households with income 75k to 100k\n",
    "url = \"http://api.census.gov/data/2016/acs/acs1/profile?\"\n",
    "target_get = 'DP03_0058PE'\n",
    "target_for = 'state:'\n",
    "\n",
    "# Empty list for percent of households with income 75k to 100k\n",
    "in_75k_100kk = []\n",
    "\n",
    "for num in state_nums:\n",
    "    \n",
    "    # Build query_url\n",
    "    query_url = url + \"get=\" + target_get + \"&for=\" + target_for + num + \"&key=\" + key\n",
    "    \n",
    "    try:\n",
    "        # Get data\n",
    "        state_data = req.get(query_url).json()\n",
    "        \n",
    "        # Store data\n",
    "        number = state_data[1][0]\n",
    "        in_75k_100kk.append(number)\n",
    "    except:\n",
    "        continue"
   ]
  },
  {
   "cell_type": "code",
   "execution_count": 12,
   "metadata": {
    "collapsed": true
   },
   "outputs": [],
   "source": [
    "# Parameters for percent of households with income 100k to 150k\n",
    "url = \"http://api.census.gov/data/2016/acs/acs1/profile?\"\n",
    "target_get = 'DP03_0059PE'\n",
    "target_for = 'state:'\n",
    "\n",
    "# Empty list for percent of households with income 100k to 150k\n",
    "in_100k_150k = []\n",
    "\n",
    "for num in state_nums:\n",
    "    \n",
    "    # Build query_url\n",
    "    query_url = url + \"get=\" + target_get + \"&for=\" + target_for + num + \"&key=\" + key\n",
    "    \n",
    "    try:\n",
    "        # Get data\n",
    "        state_data = req.get(query_url).json()\n",
    "        \n",
    "        # Store data\n",
    "        number = state_data[1][0]\n",
    "        in_100k_150k.append(number)\n",
    "    except:\n",
    "        continue"
   ]
  },
  {
   "cell_type": "code",
   "execution_count": 13,
   "metadata": {
    "collapsed": true
   },
   "outputs": [],
   "source": [
    "# Parameters for percent of households with income 100k to 200k\n",
    "url = \"http://api.census.gov/data/2016/acs/acs1/profile?\"\n",
    "target_get = 'DP03_0060PE'\n",
    "target_for = 'state:'\n",
    "\n",
    "# Empty list for percent of households with income 100k to 200k\n",
    "in_100k_200k = []\n",
    "\n",
    "for num in state_nums:\n",
    "    \n",
    "    # Build query_url\n",
    "    query_url = url + \"get=\" + target_get + \"&for=\" + target_for + num + \"&key=\" + key\n",
    "    \n",
    "    try:\n",
    "        # Get data\n",
    "        state_data = req.get(query_url).json()\n",
    "        \n",
    "        # Store data\n",
    "        number = state_data[1][0]\n",
    "        in_100k_200k.append(number)\n",
    "    except:\n",
    "        continue"
   ]
  },
  {
   "cell_type": "code",
   "execution_count": 14,
   "metadata": {
    "collapsed": true
   },
   "outputs": [],
   "source": [
    "# Parameters for percent of households with income 200k+\n",
    "url = \"http://api.census.gov/data/2016/acs/acs1/profile?\"\n",
    "target_get = 'DP03_0061PE'\n",
    "target_for = 'state:'\n",
    "\n",
    "# Empty list for percent of households with income 200k+\n",
    "over_200k = []\n",
    "\n",
    "for num in state_nums:\n",
    "    \n",
    "    # Build query_url\n",
    "    query_url = url + \"get=\" + target_get + \"&for=\" + target_for + num + \"&key=\" + key\n",
    "    \n",
    "    try:\n",
    "        # Get data\n",
    "        state_data = req.get(query_url).json()\n",
    "        \n",
    "        # Store data\n",
    "        number = state_data[1][0]\n",
    "        over_200k.append(number)\n",
    "    except:\n",
    "        continue"
   ]
  },
  {
   "cell_type": "code",
   "execution_count": null,
   "metadata": {
    "collapsed": true
   },
   "outputs": [],
   "source": []
  }
 ],
 "metadata": {
  "kernelspec": {
   "display_name": "Python [conda env:PythonData]",
   "language": "python",
   "name": "conda-env-PythonData-py"
  },
  "language_info": {
   "codemirror_mode": {
    "name": "ipython",
    "version": 3
   },
   "file_extension": ".py",
   "mimetype": "text/x-python",
   "name": "python",
   "nbconvert_exporter": "python",
   "pygments_lexer": "ipython3",
   "version": "3.6.1"
  }
 },
 "nbformat": 4,
 "nbformat_minor": 2
}
