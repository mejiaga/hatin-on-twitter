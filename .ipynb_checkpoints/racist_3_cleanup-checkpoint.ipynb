{
 "cells": [
  {
   "cell_type": "code",
   "execution_count": 2,
   "metadata": {
    "collapsed": true
   },
   "outputs": [],
   "source": [
    "import pandas as pd"
   ]
  },
  {
   "cell_type": "code",
   "execution_count": 3,
   "metadata": {},
   "outputs": [],
   "source": [
    "racist2_df = pd.read_csv('racist_2.csv')"
   ]
  },
  {
   "cell_type": "code",
   "execution_count": 4,
   "metadata": {},
   "outputs": [
    {
     "data": {
      "text/html": [
       "<div>\n",
       "<style>\n",
       "    .dataframe thead tr:only-child th {\n",
       "        text-align: right;\n",
       "    }\n",
       "\n",
       "    .dataframe thead th {\n",
       "        text-align: left;\n",
       "    }\n",
       "\n",
       "    .dataframe tbody tr th {\n",
       "        vertical-align: top;\n",
       "    }\n",
       "</style>\n",
       "<table border=\"1\" class=\"dataframe\">\n",
       "  <thead>\n",
       "    <tr style=\"text-align: right;\">\n",
       "      <th></th>\n",
       "      <th>Unnamed: 0</th>\n",
       "      <th># favorite of tweet</th>\n",
       "      <th># followers</th>\n",
       "      <th># following</th>\n",
       "      <th># of hastags</th>\n",
       "      <th># of mentions</th>\n",
       "      <th># retweets of tweet</th>\n",
       "      <th>account creation date</th>\n",
       "      <th>in reply to</th>\n",
       "      <th>location</th>\n",
       "      <th>name</th>\n",
       "      <th>number of account tweets</th>\n",
       "      <th>phrase</th>\n",
       "      <th>race</th>\n",
       "      <th>screen name</th>\n",
       "      <th>time</th>\n",
       "      <th>tweet</th>\n",
       "      <th>user id</th>\n",
       "    </tr>\n",
       "  </thead>\n",
       "  <tbody>\n",
       "    <tr>\n",
       "      <th>0</th>\n",
       "      <td>0</td>\n",
       "      <td>0</td>\n",
       "      <td>171</td>\n",
       "      <td>532</td>\n",
       "      <td>0</td>\n",
       "      <td>0</td>\n",
       "      <td>0</td>\n",
       "      <td>Sun Feb 05 19:27:45 +0000 2017</td>\n",
       "      <td>NaN</td>\n",
       "      <td>New Brunswick, NJ</td>\n",
       "      <td>Christoph Mergerson</td>\n",
       "      <td>3146</td>\n",
       "      <td>black people are</td>\n",
       "      <td>black</td>\n",
       "      <td>cardigansink</td>\n",
       "      <td>Mon Sep 25 12:05:49 +0000 2017</td>\n",
       "      <td>Gonna go on a limb and suggest that this guy c...</td>\n",
       "      <td>828324249442058245</td>\n",
       "    </tr>\n",
       "    <tr>\n",
       "      <th>1</th>\n",
       "      <td>1</td>\n",
       "      <td>0</td>\n",
       "      <td>1120</td>\n",
       "      <td>770</td>\n",
       "      <td>0</td>\n",
       "      <td>5</td>\n",
       "      <td>0</td>\n",
       "      <td>Mon Oct 13 07:08:56 +0000 2008</td>\n",
       "      <td>7.830887e+17</td>\n",
       "      <td>Austin, TX</td>\n",
       "      <td>Nkosi Barrow</td>\n",
       "      <td>6686</td>\n",
       "      <td>black people are</td>\n",
       "      <td>black</td>\n",
       "      <td>nkosi</td>\n",
       "      <td>Mon Sep 25 12:03:23 +0000 2017</td>\n",
       "      <td>@RaceBannon16 @allisonallen919 @GabelJoshua @m...</td>\n",
       "      <td>16717801</td>\n",
       "    </tr>\n",
       "    <tr>\n",
       "      <th>2</th>\n",
       "      <td>2</td>\n",
       "      <td>0</td>\n",
       "      <td>452</td>\n",
       "      <td>288</td>\n",
       "      <td>0</td>\n",
       "      <td>1</td>\n",
       "      <td>0</td>\n",
       "      <td>Thu Sep 15 16:30:42 +0000 2011</td>\n",
       "      <td>2.507388e+07</td>\n",
       "      <td>West Philly</td>\n",
       "      <td>lorren</td>\n",
       "      <td>21227</td>\n",
       "      <td>black people are</td>\n",
       "      <td>black</td>\n",
       "      <td>loruscetta</td>\n",
       "      <td>Mon Sep 25 12:02:27 +0000 2017</td>\n",
       "      <td>@realDonaldTrump You fucking idiot the reason ...</td>\n",
       "      <td>374049297</td>\n",
       "    </tr>\n",
       "    <tr>\n",
       "      <th>3</th>\n",
       "      <td>3</td>\n",
       "      <td>0</td>\n",
       "      <td>716</td>\n",
       "      <td>555</td>\n",
       "      <td>0</td>\n",
       "      <td>2</td>\n",
       "      <td>0</td>\n",
       "      <td>Fri Jul 16 07:33:00 +0000 2010</td>\n",
       "      <td>8.760174e+17</td>\n",
       "      <td>Killeen/San Antonio</td>\n",
       "      <td>Nova Magister D.Lee</td>\n",
       "      <td>82559</td>\n",
       "      <td>black people are</td>\n",
       "      <td>black</td>\n",
       "      <td>DLeeXIII</td>\n",
       "      <td>Mon Sep 25 11:57:27 +0000 2017</td>\n",
       "      <td>@Chrissy55638682 @wiwwdal What proof and indic...</td>\n",
       "      <td>167311489</td>\n",
       "    </tr>\n",
       "    <tr>\n",
       "      <th>4</th>\n",
       "      <td>4</td>\n",
       "      <td>1</td>\n",
       "      <td>60866</td>\n",
       "      <td>9656</td>\n",
       "      <td>0</td>\n",
       "      <td>0</td>\n",
       "      <td>0</td>\n",
       "      <td>Wed Nov 12 20:45:46 +0000 2008</td>\n",
       "      <td>NaN</td>\n",
       "      <td>Washington D.C.</td>\n",
       "      <td>Aaron L Myers, II</td>\n",
       "      <td>61105</td>\n",
       "      <td>black people are</td>\n",
       "      <td>black</td>\n",
       "      <td>aaronmyers</td>\n",
       "      <td>Mon Sep 25 11:54:31 +0000 2017</td>\n",
       "      <td>No, kneeling is an act of protest, acknowledgi...</td>\n",
       "      <td>17348274</td>\n",
       "    </tr>\n",
       "  </tbody>\n",
       "</table>\n",
       "</div>"
      ],
      "text/plain": [
       "   Unnamed: 0  # favorite of tweet  # followers  # following  # of hastags  \\\n",
       "0           0                    0          171          532             0   \n",
       "1           1                    0         1120          770             0   \n",
       "2           2                    0          452          288             0   \n",
       "3           3                    0          716          555             0   \n",
       "4           4                    1        60866         9656             0   \n",
       "\n",
       "   # of mentions  # retweets of tweet           account creation date  \\\n",
       "0              0                    0  Sun Feb 05 19:27:45 +0000 2017   \n",
       "1              5                    0  Mon Oct 13 07:08:56 +0000 2008   \n",
       "2              1                    0  Thu Sep 15 16:30:42 +0000 2011   \n",
       "3              2                    0  Fri Jul 16 07:33:00 +0000 2010   \n",
       "4              0                    0  Wed Nov 12 20:45:46 +0000 2008   \n",
       "\n",
       "    in reply to             location                 name  \\\n",
       "0           NaN    New Brunswick, NJ  Christoph Mergerson   \n",
       "1  7.830887e+17           Austin, TX         Nkosi Barrow   \n",
       "2  2.507388e+07          West Philly               lorren   \n",
       "3  8.760174e+17  Killeen/San Antonio  Nova Magister D.Lee   \n",
       "4           NaN      Washington D.C.    Aaron L Myers, II   \n",
       "\n",
       "   number of account tweets            phrase   race   screen name  \\\n",
       "0                      3146  black people are  black  cardigansink   \n",
       "1                      6686  black people are  black         nkosi   \n",
       "2                     21227  black people are  black    loruscetta   \n",
       "3                     82559  black people are  black      DLeeXIII   \n",
       "4                     61105  black people are  black    aaronmyers   \n",
       "\n",
       "                             time  \\\n",
       "0  Mon Sep 25 12:05:49 +0000 2017   \n",
       "1  Mon Sep 25 12:03:23 +0000 2017   \n",
       "2  Mon Sep 25 12:02:27 +0000 2017   \n",
       "3  Mon Sep 25 11:57:27 +0000 2017   \n",
       "4  Mon Sep 25 11:54:31 +0000 2017   \n",
       "\n",
       "                                               tweet             user id  \n",
       "0  Gonna go on a limb and suggest that this guy c...  828324249442058245  \n",
       "1  @RaceBannon16 @allisonallen919 @GabelJoshua @m...            16717801  \n",
       "2  @realDonaldTrump You fucking idiot the reason ...           374049297  \n",
       "3  @Chrissy55638682 @wiwwdal What proof and indic...           167311489  \n",
       "4  No, kneeling is an act of protest, acknowledgi...            17348274  "
      ]
     },
     "execution_count": 4,
     "metadata": {},
     "output_type": "execute_result"
    }
   ],
   "source": [
    "racist2_df.head()"
   ]
  },
  {
   "cell_type": "code",
   "execution_count": 6,
   "metadata": {},
   "outputs": [
    {
     "data": {
      "text/plain": [
       "79"
      ]
     },
     "execution_count": 6,
     "metadata": {},
     "output_type": "execute_result"
    }
   ],
   "source": [
    "len(racist2_df)"
   ]
  },
  {
   "cell_type": "code",
   "execution_count": 7,
   "metadata": {
    "collapsed": true
   },
   "outputs": [],
   "source": [
    "racist2_no_dup = racist2_df.drop_duplicates()"
   ]
  },
  {
   "cell_type": "code",
   "execution_count": 8,
   "metadata": {},
   "outputs": [
    {
     "data": {
      "text/plain": [
       "79"
      ]
     },
     "execution_count": 8,
     "metadata": {},
     "output_type": "execute_result"
    }
   ],
   "source": [
    "len(racist2_no_dup)"
   ]
  },
  {
   "cell_type": "code",
   "execution_count": 9,
   "metadata": {
    "collapsed": true
   },
   "outputs": [],
   "source": [
    "racist2_clean = racist2_df.dropna(subset = ['tweet'])"
   ]
  },
  {
   "cell_type": "code",
   "execution_count": 10,
   "metadata": {},
   "outputs": [
    {
     "data": {
      "text/plain": [
       "79"
      ]
     },
     "execution_count": 10,
     "metadata": {},
     "output_type": "execute_result"
    }
   ],
   "source": [
    "len(racist2_clean)"
   ]
  },
  {
   "cell_type": "code",
   "execution_count": 12,
   "metadata": {},
   "outputs": [],
   "source": [
    "racist2_clean.to_csv('racist2_clean.csv', index = False)"
   ]
  },
  {
   "cell_type": "code",
   "execution_count": null,
   "metadata": {
    "collapsed": true
   },
   "outputs": [],
   "source": []
  }
 ],
 "metadata": {
  "kernelspec": {
   "display_name": "Python [conda env:PythonData]",
   "language": "python",
   "name": "conda-env-PythonData-py"
  },
  "language_info": {
   "codemirror_mode": {
    "name": "ipython",
    "version": 3
   },
   "file_extension": ".py",
   "mimetype": "text/x-python",
   "name": "python",
   "nbconvert_exporter": "python",
   "pygments_lexer": "ipython3",
   "version": "3.6.1"
  }
 },
 "nbformat": 4,
 "nbformat_minor": 2
}
