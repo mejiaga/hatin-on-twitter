{
 "cells": [
  {
   "cell_type": "code",
   "execution_count": 1,
   "metadata": {
    "collapsed": true
   },
   "outputs": [],
   "source": [
    "import pandas as pd"
   ]
  },
  {
   "cell_type": "code",
   "execution_count": 30,
   "metadata": {
    "collapsed": true
   },
   "outputs": [],
   "source": [
    "filtered = pd.read_csv('filtered_tweets.csv')"
   ]
  },
  {
   "cell_type": "code",
   "execution_count": 31,
   "metadata": {},
   "outputs": [
    {
     "data": {
      "text/html": [
       "<div>\n",
       "<style>\n",
       "    .dataframe thead tr:only-child th {\n",
       "        text-align: right;\n",
       "    }\n",
       "\n",
       "    .dataframe thead th {\n",
       "        text-align: left;\n",
       "    }\n",
       "\n",
       "    .dataframe tbody tr th {\n",
       "        vertical-align: top;\n",
       "    }\n",
       "</style>\n",
       "<table border=\"1\" class=\"dataframe\">\n",
       "  <thead>\n",
       "    <tr style=\"text-align: right;\">\n",
       "      <th></th>\n",
       "      <th># favorite of tweet</th>\n",
       "      <th># followers</th>\n",
       "      <th># following</th>\n",
       "      <th># of hastags</th>\n",
       "      <th># of mentions</th>\n",
       "      <th>account creation date</th>\n",
       "      <th>in reply to</th>\n",
       "      <th>location</th>\n",
       "      <th>name</th>\n",
       "      <th>number of account tweets</th>\n",
       "      <th>...</th>\n",
       "      <th>race</th>\n",
       "      <th>screen name</th>\n",
       "      <th>time</th>\n",
       "      <th>tweet</th>\n",
       "      <th>user id</th>\n",
       "      <th>classification</th>\n",
       "      <th>compound score</th>\n",
       "      <th>Racist (Y/N)</th>\n",
       "      <th>State Abbreviation</th>\n",
       "      <th>Valid City Data (Y/N)</th>\n",
       "    </tr>\n",
       "  </thead>\n",
       "  <tbody>\n",
       "    <tr>\n",
       "      <th>0</th>\n",
       "      <td>0</td>\n",
       "      <td>1035</td>\n",
       "      <td>695</td>\n",
       "      <td>0</td>\n",
       "      <td>0</td>\n",
       "      <td>Mon May 10 20:46:10 +0000 2010</td>\n",
       "      <td>NaN</td>\n",
       "      <td>Los Angeles, CA</td>\n",
       "      <td>Daunt L. Guapo</td>\n",
       "      <td>46837</td>\n",
       "      <td>...</td>\n",
       "      <td>black</td>\n",
       "      <td>TheAntiThirst</td>\n",
       "      <td>Sun Sep 24 23:43:48 +0000 2017</td>\n",
       "      <td>\"Black Men are the White People of Black Peopl...</td>\n",
       "      <td>1.424148e+08</td>\n",
       "      <td>Hate speech</td>\n",
       "      <td>0.0000</td>\n",
       "      <td>y</td>\n",
       "      <td>CA</td>\n",
       "      <td>y</td>\n",
       "    </tr>\n",
       "    <tr>\n",
       "      <th>1</th>\n",
       "      <td>0</td>\n",
       "      <td>34</td>\n",
       "      <td>80</td>\n",
       "      <td>0</td>\n",
       "      <td>2</td>\n",
       "      <td>Mon Jun 06 20:29:37 +0000 2016</td>\n",
       "      <td>7.990000e+17</td>\n",
       "      <td>Tennessee, USA</td>\n",
       "      <td>Donald J Trump</td>\n",
       "      <td>109</td>\n",
       "      <td>...</td>\n",
       "      <td>black</td>\n",
       "      <td>potus45ofUSA</td>\n",
       "      <td>Sun Sep 24 23:41:03 +0000 2017</td>\n",
       "      <td>@KathySc65174870 @teacherfortrump Kathy, it wa...</td>\n",
       "      <td>7.400000e+17</td>\n",
       "      <td>Hate speech</td>\n",
       "      <td>-0.3818</td>\n",
       "      <td>y</td>\n",
       "      <td>TN</td>\n",
       "      <td>y</td>\n",
       "    </tr>\n",
       "    <tr>\n",
       "      <th>2</th>\n",
       "      <td>1</td>\n",
       "      <td>3007</td>\n",
       "      <td>5000</td>\n",
       "      <td>0</td>\n",
       "      <td>3</td>\n",
       "      <td>Sun May 21 01:57:26 +0000 2017</td>\n",
       "      <td>7.810000e+17</td>\n",
       "      <td>Dallas, TX</td>\n",
       "      <td>Kristin Fennymore</td>\n",
       "      <td>5069</td>\n",
       "      <td>...</td>\n",
       "      <td>black</td>\n",
       "      <td>KFennymore</td>\n",
       "      <td>Sun Sep 24 23:40:02 +0000 2017</td>\n",
       "      <td>@erick_c_h01 @VeronicaA5567 @Trumpfan1995 I'm ...</td>\n",
       "      <td>8.660000e+17</td>\n",
       "      <td>Hate speech</td>\n",
       "      <td>-0.6808</td>\n",
       "      <td>y</td>\n",
       "      <td>TX</td>\n",
       "      <td>y</td>\n",
       "    </tr>\n",
       "    <tr>\n",
       "      <th>3</th>\n",
       "      <td>1</td>\n",
       "      <td>3</td>\n",
       "      <td>0</td>\n",
       "      <td>1</td>\n",
       "      <td>0</td>\n",
       "      <td>Mon Aug 07 00:08:24 +0000 2017</td>\n",
       "      <td>NaN</td>\n",
       "      <td>Simi Valley, CA</td>\n",
       "      <td>Merica1958</td>\n",
       "      <td>456</td>\n",
       "      <td>...</td>\n",
       "      <td>black</td>\n",
       "      <td>Merica1861</td>\n",
       "      <td>Sun Sep 24 23:18:48 +0000 2017</td>\n",
       "      <td>#TakeTheKnee Black guy shoots up a church of w...</td>\n",
       "      <td>8.940000e+17</td>\n",
       "      <td>Hate speech</td>\n",
       "      <td>-0.7579</td>\n",
       "      <td>y</td>\n",
       "      <td>CA</td>\n",
       "      <td>y</td>\n",
       "    </tr>\n",
       "    <tr>\n",
       "      <th>4</th>\n",
       "      <td>0</td>\n",
       "      <td>2321</td>\n",
       "      <td>1198</td>\n",
       "      <td>0</td>\n",
       "      <td>0</td>\n",
       "      <td>Thu Aug 12 03:04:35 +0000 2010</td>\n",
       "      <td>NaN</td>\n",
       "      <td>East Flatbush, Brooklyn</td>\n",
       "      <td>Nola Darling????</td>\n",
       "      <td>257313</td>\n",
       "      <td>...</td>\n",
       "      <td>black</td>\n",
       "      <td>WESTCOASTSUMA</td>\n",
       "      <td>Sun Sep 24 23:15:47 +0000 2017</td>\n",
       "      <td>This is why people say black men are the white...</td>\n",
       "      <td>1.774275e+08</td>\n",
       "      <td>Hate speech</td>\n",
       "      <td>0.0000</td>\n",
       "      <td>y</td>\n",
       "      <td>NY</td>\n",
       "      <td>y</td>\n",
       "    </tr>\n",
       "  </tbody>\n",
       "</table>\n",
       "<p>5 rows × 21 columns</p>\n",
       "</div>"
      ],
      "text/plain": [
       "   # favorite of tweet  # followers  # following  # of hastags  # of mentions  \\\n",
       "0                    0         1035          695             0              0   \n",
       "1                    0           34           80             0              2   \n",
       "2                    1         3007         5000             0              3   \n",
       "3                    1            3            0             1              0   \n",
       "4                    0         2321         1198             0              0   \n",
       "\n",
       "            account creation date   in reply to                 location  \\\n",
       "0  Mon May 10 20:46:10 +0000 2010           NaN          Los Angeles, CA   \n",
       "1  Mon Jun 06 20:29:37 +0000 2016  7.990000e+17           Tennessee, USA   \n",
       "2  Sun May 21 01:57:26 +0000 2017  7.810000e+17               Dallas, TX   \n",
       "3  Mon Aug 07 00:08:24 +0000 2017           NaN          Simi Valley, CA   \n",
       "4  Thu Aug 12 03:04:35 +0000 2010           NaN  East Flatbush, Brooklyn   \n",
       "\n",
       "                name  number of account tweets          ...            race  \\\n",
       "0     Daunt L. Guapo                     46837          ...           black   \n",
       "1     Donald J Trump                       109          ...           black   \n",
       "2  Kristin Fennymore                      5069          ...           black   \n",
       "3         Merica1958                       456          ...           black   \n",
       "4   Nola Darling????                    257313          ...           black   \n",
       "\n",
       "     screen name                            time  \\\n",
       "0  TheAntiThirst  Sun Sep 24 23:43:48 +0000 2017   \n",
       "1   potus45ofUSA  Sun Sep 24 23:41:03 +0000 2017   \n",
       "2     KFennymore  Sun Sep 24 23:40:02 +0000 2017   \n",
       "3     Merica1861  Sun Sep 24 23:18:48 +0000 2017   \n",
       "4  WESTCOASTSUMA  Sun Sep 24 23:15:47 +0000 2017   \n",
       "\n",
       "                                               tweet       user id  \\\n",
       "0  \"Black Men are the White People of Black Peopl...  1.424148e+08   \n",
       "1  @KathySc65174870 @teacherfortrump Kathy, it wa...  7.400000e+17   \n",
       "2  @erick_c_h01 @VeronicaA5567 @Trumpfan1995 I'm ...  8.660000e+17   \n",
       "3  #TakeTheKnee Black guy shoots up a church of w...  8.940000e+17   \n",
       "4  This is why people say black men are the white...  1.774275e+08   \n",
       "\n",
       "   classification compound score  Racist (Y/N) State Abbreviation  \\\n",
       "0     Hate speech         0.0000             y                 CA   \n",
       "1     Hate speech        -0.3818             y                 TN   \n",
       "2     Hate speech        -0.6808             y                 TX   \n",
       "3     Hate speech        -0.7579             y                 CA   \n",
       "4     Hate speech         0.0000             y                 NY   \n",
       "\n",
       "  Valid City Data (Y/N)  \n",
       "0                     y  \n",
       "1                     y  \n",
       "2                     y  \n",
       "3                     y  \n",
       "4                     y  \n",
       "\n",
       "[5 rows x 21 columns]"
      ]
     },
     "execution_count": 31,
     "metadata": {},
     "output_type": "execute_result"
    }
   ],
   "source": [
    "filtered.head()"
   ]
  },
  {
   "cell_type": "code",
   "execution_count": 32,
   "metadata": {},
   "outputs": [
    {
     "data": {
      "text/plain": [
       "981"
      ]
     },
     "execution_count": 32,
     "metadata": {},
     "output_type": "execute_result"
    }
   ],
   "source": [
    "len(filtered)"
   ]
  },
  {
   "cell_type": "code",
   "execution_count": 33,
   "metadata": {},
   "outputs": [
    {
     "data": {
      "text/plain": [
       "y         440\n",
       "Y         240\n",
       "n         184\n",
       "N          94\n",
       "canada     17\n",
       "CANADA      3\n",
       "MEXICO      1\n",
       "mexico      1\n",
       "Name: Valid City Data (Y/N), dtype: int64"
      ]
     },
     "execution_count": 33,
     "metadata": {},
     "output_type": "execute_result"
    }
   ],
   "source": [
    "filtered['Valid City Data (Y/N)'].value_counts()"
   ]
  },
  {
   "cell_type": "code",
   "execution_count": 34,
   "metadata": {},
   "outputs": [],
   "source": [
    "filtered_us = filtered[(filtered['Valid City Data (Y/N)'] == 'y') |\n",
    "                       (filtered['Valid City Data (Y/N)'] == 'Y') |\n",
    "                       (filtered['Valid City Data (Y/N)'] == 'n') |\n",
    "                       (filtered['Valid City Data (Y/N)'] == 'N') |\n",
    "                       (filtered['Valid City Data (Y/N)'].isnull() == True)]"
   ]
  },
  {
   "cell_type": "code",
   "execution_count": 38,
   "metadata": {
    "collapsed": true
   },
   "outputs": [],
   "source": [
    "filtered_us = filtered_us[filtered_us['State Abbreviation'] != 'CANADA']"
   ]
  },
  {
   "cell_type": "code",
   "execution_count": 39,
   "metadata": {},
   "outputs": [
    {
     "data": {
      "text/plain": [
       "954"
      ]
     },
     "execution_count": 39,
     "metadata": {},
     "output_type": "execute_result"
    }
   ],
   "source": [
    "len(filtered_us)"
   ]
  },
  {
   "cell_type": "code",
   "execution_count": 40,
   "metadata": {
    "collapsed": true
   },
   "outputs": [],
   "source": [
    "unique_users = filtered_us.drop_duplicates(subset = 'screen name')"
   ]
  },
  {
   "cell_type": "code",
   "execution_count": 41,
   "metadata": {},
   "outputs": [
    {
     "data": {
      "text/plain": [
       "886"
      ]
     },
     "execution_count": 41,
     "metadata": {},
     "output_type": "execute_result"
    }
   ],
   "source": [
    "len(unique_users)"
   ]
  },
  {
   "cell_type": "code",
   "execution_count": 42,
   "metadata": {},
   "outputs": [],
   "source": [
    "unique_users.to_csv('unique_user_location.csv', index = False)"
   ]
  },
  {
   "cell_type": "code",
   "execution_count": 45,
   "metadata": {},
   "outputs": [],
   "source": [
    "state_counts = pd.DataFrame(unique_users['State Abbreviation'].value_counts())"
   ]
  },
  {
   "cell_type": "code",
   "execution_count": null,
   "metadata": {
    "collapsed": true
   },
   "outputs": [],
   "source": []
  }
 ],
 "metadata": {
  "kernelspec": {
   "display_name": "Python [conda env:PythonData]",
   "language": "python",
   "name": "conda-env-PythonData-py"
  },
  "language_info": {
   "codemirror_mode": {
    "name": "ipython",
    "version": 3
   },
   "file_extension": ".py",
   "mimetype": "text/x-python",
   "name": "python",
   "nbconvert_exporter": "python",
   "pygments_lexer": "ipython3",
   "version": "3.6.1"
  }
 },
 "nbformat": 4,
 "nbformat_minor": 2
}
