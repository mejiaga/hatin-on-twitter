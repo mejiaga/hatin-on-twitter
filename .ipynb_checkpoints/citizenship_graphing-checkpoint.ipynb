{
 "cells": [
  {
   "cell_type": "code",
   "execution_count": 1,
   "metadata": {
    "collapsed": true
   },
   "outputs": [],
   "source": [
    "# Dependencies\n",
    "import pandas as pd\n",
    "import matplotlib.pyplot as plt\n",
    "import seaborn as sns\n",
    "import numpy as np"
   ]
  },
  {
   "cell_type": "code",
   "execution_count": 2,
   "metadata": {},
   "outputs": [
    {
     "data": {
      "text/html": [
       "<div>\n",
       "<style>\n",
       "    .dataframe thead tr:only-child th {\n",
       "        text-align: right;\n",
       "    }\n",
       "\n",
       "    .dataframe thead th {\n",
       "        text-align: left;\n",
       "    }\n",
       "\n",
       "    .dataframe tbody tr th {\n",
       "        vertical-align: top;\n",
       "    }\n",
       "</style>\n",
       "<table border=\"1\" class=\"dataframe\">\n",
       "  <thead>\n",
       "    <tr style=\"text-align: right;\">\n",
       "      <th></th>\n",
       "      <th>State</th>\n",
       "      <th>Total Population</th>\n",
       "      <th>State Abbr</th>\n",
       "      <th>black</th>\n",
       "      <th>jews</th>\n",
       "      <th>muslim</th>\n",
       "      <th>norm_black</th>\n",
       "      <th>norm_jewish</th>\n",
       "      <th>norm_muslim</th>\n",
       "      <th>total_count</th>\n",
       "      <th>total_norm</th>\n",
       "    </tr>\n",
       "  </thead>\n",
       "  <tbody>\n",
       "    <tr>\n",
       "      <th>40</th>\n",
       "      <td>Vermont</td>\n",
       "      <td>624594</td>\n",
       "      <td>VT</td>\n",
       "      <td>2.0</td>\n",
       "      <td>1.0</td>\n",
       "      <td>0.0</td>\n",
       "      <td>0.000320</td>\n",
       "      <td>0.000160</td>\n",
       "      <td>0.000000</td>\n",
       "      <td>3.0</td>\n",
       "      <td>0.000480</td>\n",
       "    </tr>\n",
       "    <tr>\n",
       "      <th>22</th>\n",
       "      <td>Mississippi</td>\n",
       "      <td>2988726</td>\n",
       "      <td>MS</td>\n",
       "      <td>5.0</td>\n",
       "      <td>1.0</td>\n",
       "      <td>7.0</td>\n",
       "      <td>0.000167</td>\n",
       "      <td>0.000033</td>\n",
       "      <td>0.000234</td>\n",
       "      <td>13.0</td>\n",
       "      <td>0.000435</td>\n",
       "    </tr>\n",
       "    <tr>\n",
       "      <th>7</th>\n",
       "      <td>Delaware</td>\n",
       "      <td>952065</td>\n",
       "      <td>DE</td>\n",
       "      <td>3.0</td>\n",
       "      <td>1.0</td>\n",
       "      <td>0.0</td>\n",
       "      <td>0.000315</td>\n",
       "      <td>0.000105</td>\n",
       "      <td>0.000000</td>\n",
       "      <td>4.0</td>\n",
       "      <td>0.000420</td>\n",
       "    </tr>\n",
       "    <tr>\n",
       "      <th>20</th>\n",
       "      <td>Michigan</td>\n",
       "      <td>9928300</td>\n",
       "      <td>MI</td>\n",
       "      <td>16.0</td>\n",
       "      <td>9.0</td>\n",
       "      <td>7.0</td>\n",
       "      <td>0.000161</td>\n",
       "      <td>0.000091</td>\n",
       "      <td>0.000071</td>\n",
       "      <td>32.0</td>\n",
       "      <td>0.000322</td>\n",
       "    </tr>\n",
       "    <tr>\n",
       "      <th>35</th>\n",
       "      <td>Rhode Island</td>\n",
       "      <td>1056426</td>\n",
       "      <td>RI</td>\n",
       "      <td>1.0</td>\n",
       "      <td>1.0</td>\n",
       "      <td>1.0</td>\n",
       "      <td>0.000095</td>\n",
       "      <td>0.000095</td>\n",
       "      <td>0.000095</td>\n",
       "      <td>3.0</td>\n",
       "      <td>0.000284</td>\n",
       "    </tr>\n",
       "  </tbody>\n",
       "</table>\n",
       "</div>"
      ],
      "text/plain": [
       "           State  Total Population State Abbr  black  jews  muslim  \\\n",
       "40       Vermont            624594         VT    2.0   1.0     0.0   \n",
       "22   Mississippi           2988726         MS    5.0   1.0     7.0   \n",
       "7       Delaware            952065         DE    3.0   1.0     0.0   \n",
       "20      Michigan           9928300         MI   16.0   9.0     7.0   \n",
       "35  Rhode Island           1056426         RI    1.0   1.0     1.0   \n",
       "\n",
       "    norm_black  norm_jewish  norm_muslim  total_count  total_norm  \n",
       "40    0.000320     0.000160     0.000000          3.0    0.000480  \n",
       "22    0.000167     0.000033     0.000234         13.0    0.000435  \n",
       "7     0.000315     0.000105     0.000000          4.0    0.000420  \n",
       "20    0.000161     0.000091     0.000071         32.0    0.000322  \n",
       "35    0.000095     0.000095     0.000095          3.0    0.000284  "
      ]
     },
     "execution_count": 2,
     "metadata": {},
     "output_type": "execute_result"
    }
   ],
   "source": [
    "# Reading in normalized data & cleaning up\n",
    "normalized_counts = pd.read_csv('normalized_counts.csv')\n",
    "del normalized_counts['Unnamed: 0']\n",
    "normalized_counts.drop(8, inplace=True)\n",
    "normalized_counts.sort_values('total_norm', ascending=False, inplace=True)\n",
    "normalized_counts.head()"
   ]
  },
  {
   "cell_type": "code",
   "execution_count": 3,
   "metadata": {},
   "outputs": [
    {
     "data": {
      "text/html": [
       "<div>\n",
       "<style>\n",
       "    .dataframe thead tr:only-child th {\n",
       "        text-align: right;\n",
       "    }\n",
       "\n",
       "    .dataframe thead th {\n",
       "        text-align: left;\n",
       "    }\n",
       "\n",
       "    .dataframe tbody tr th {\n",
       "        vertical-align: top;\n",
       "    }\n",
       "</style>\n",
       "<table border=\"1\" class=\"dataframe\">\n",
       "  <thead>\n",
       "    <tr style=\"text-align: right;\">\n",
       "      <th></th>\n",
       "      <th>State</th>\n",
       "      <th>Not a US Citizen</th>\n",
       "      <th>US Citizen by American Parents (Born Abroad)</th>\n",
       "      <th>US Citizen by Birth</th>\n",
       "      <th>US Citizen by Naturalization</th>\n",
       "    </tr>\n",
       "  </thead>\n",
       "  <tbody>\n",
       "    <tr>\n",
       "      <th>0</th>\n",
       "      <td>Alabama</td>\n",
       "      <td>104018</td>\n",
       "      <td>37329</td>\n",
       "      <td>4654606</td>\n",
       "      <td>59611</td>\n",
       "    </tr>\n",
       "    <tr>\n",
       "      <th>1</th>\n",
       "      <td>Alaska</td>\n",
       "      <td>24592</td>\n",
       "      <td>12779</td>\n",
       "      <td>664942</td>\n",
       "      <td>32772</td>\n",
       "    </tr>\n",
       "    <tr>\n",
       "      <th>2</th>\n",
       "      <td>Arizona</td>\n",
       "      <td>535847</td>\n",
       "      <td>80961</td>\n",
       "      <td>5900245</td>\n",
       "      <td>399036</td>\n",
       "    </tr>\n",
       "    <tr>\n",
       "      <th>3</th>\n",
       "      <td>Arkansas</td>\n",
       "      <td>94308</td>\n",
       "      <td>16586</td>\n",
       "      <td>2830836</td>\n",
       "      <td>44284</td>\n",
       "    </tr>\n",
       "    <tr>\n",
       "      <th>4</th>\n",
       "      <td>California</td>\n",
       "      <td>5308155</td>\n",
       "      <td>461409</td>\n",
       "      <td>28035408</td>\n",
       "      <td>5369508</td>\n",
       "    </tr>\n",
       "  </tbody>\n",
       "</table>\n",
       "</div>"
      ],
      "text/plain": [
       "        State  Not a US Citizen  US Citizen by American Parents (Born Abroad)  \\\n",
       "0     Alabama            104018                                         37329   \n",
       "1      Alaska             24592                                         12779   \n",
       "2     Arizona            535847                                         80961   \n",
       "3    Arkansas             94308                                         16586   \n",
       "4  California           5308155                                        461409   \n",
       "\n",
       "   US Citizen by Birth  US Citizen by Naturalization  \n",
       "0              4654606                         59611  \n",
       "1               664942                         32772  \n",
       "2              5900245                        399036  \n",
       "3              2830836                         44284  \n",
       "4             28035408                       5369508  "
      ]
     },
     "execution_count": 3,
     "metadata": {},
     "output_type": "execute_result"
    }
   ],
   "source": [
    "# Reading in population info\n",
    "citizenship = pd.read_csv(\"census_data/2016_population.csv\", dtype={\"Not a US Citizen\": np.int32,\n",
    "                                                                    \"US Citizen by American Parents (Born Abroad)\": np.int32,\n",
    "                                                                    \"US Citizen by Birth\": np.int32,\n",
    "                                                                    \"US Citizen by Naturalization\": np.int32})\n",
    "citizenship.rename(columns={\"Unnamed: 0\": \"State\"}, inplace=True)\n",
    "citizenship = citizenship[[\"State\", \"Not a US Citizen\",\"US Citizen by American Parents (Born Abroad)\",\n",
    "                           \"US Citizen by Birth\",\"US Citizen by Naturalization\"]]\n",
    "citizenship.head()"
   ]
  },
  {
   "cell_type": "code",
   "execution_count": 4,
   "metadata": {
    "collapsed": true
   },
   "outputs": [],
   "source": [
    "# Getting top 5 and bottom 5 states\n",
    "top_5 = normalized_counts.head()\n",
    "bottom_5 = normalized_counts.tail()"
   ]
  },
  {
   "cell_type": "code",
   "execution_count": 5,
   "metadata": {},
   "outputs": [],
   "source": [
    "# Mergin citizenship status\n",
    "top_5 = top_5.merge(citizenship)\n",
    "top_5 = top_5[[\"State\", \"Not a US Citizen\",\"US Citizen by American Parents (Born Abroad)\", \"US Citizen by Birth\",\n",
    "               \"US Citizen by Naturalization\"]]\n",
    "bottom_5 = bottom_5.merge(citizenship)\n",
    "bottom_5 = bottom_5[[\"State\", \"Not a US Citizen\",\"US Citizen by American Parents (Born Abroad)\", \"US Citizen by Birth\",\n",
    "               \"US Citizen by Naturalization\"]]"
   ]
  },
  {
   "cell_type": "code",
   "execution_count": 6,
   "metadata": {},
   "outputs": [
    {
     "data": {
      "image/png": "[encoded data removed]",
      "text/plain": [
       "<matplotlib.figure.Figure at 0x1fa39202860>"
      ]
     },
     "metadata": {},
     "output_type": "display_data"
    }
   ],
   "source": [
    "# x values\n",
    "x_axis = np.arange(5)\n",
    "\n",
    "y_values = [\"Not a US Citizen\",\"US Citizen by American Parents (Born Abroad)\", \"US Citizen by Birth\",\n",
    "               \"US Citizen by Naturalization\"]\n",
    "\n",
    "for value in y_values:\n",
    "    plt.bar(x_axis, top_5[value], label=value)\n",
    "    \n",
    "plt.title(\"Citizenship Status\")\n",
    "plt.xlabel(\"State\")\n",
    "plt.ylabel(\"Population\")\n",
    "\n",
    "x_labels = top_5['State']\n",
    "x_locations = [value for value in np.arange(5)]\n",
    "plt.xticks(x_locations, x_labels)\n",
    "\n",
    "plt.legend(bbox_to_anchor=(1,1), title='Citizenship Status')\n",
    "\n",
    "plt.savefig(\"Images/citizen_top_5.png\", bbox_inches=\"tight\")\n",
    "\n",
    "plt.show()"
   ]
  },
  {
   "cell_type": "code",
   "execution_count": 11,
   "metadata": {},
   "outputs": [
    {
     "data": {
      "image/png": "[encoded data removed]",
      "text/plain": [
       "<matplotlib.figure.Figure at 0x1fa3ac3a828>"
      ]
     },
     "metadata": {},
     "output_type": "display_data"
    }
   ],
   "source": [
    "# x values\n",
    "x_axis = np.arange(5)\n",
    "\n",
    "y_values = [\"Not a US Citizen\",\"US Citizen by American Parents (Born Abroad)\", \"US Citizen by Birth\",\n",
    "               \"US Citizen by Naturalization\"]\n",
    "\n",
    "for value in y_values:\n",
    "    plt.bar(x_axis, bottom_5[value], label=value)\n",
    "    \n",
    "plt.title(\"Citizenship Status\")\n",
    "plt.xlabel(\"State\")\n",
    "plt.ylabel(\"Population\")\n",
    "\n",
    "x_labels = bottom_5['State']\n",
    "x_locations = [value for value in np.arange(5)]\n",
    "plt.xticks(x_locations, x_labels)\n",
    "\n",
    "plt.legend(bbox_to_anchor=(1.6,1), title='Citizenship Status')\n",
    "\n",
    "plt.savefig(\"Images/citizen_bottom_5.png\", bbox_inches=\"tight\")\n",
    "\n",
    "plt.show()"
   ]
  },
  {
   "cell_type": "code",
   "execution_count": null,
   "metadata": {
    "collapsed": true
   },
   "outputs": [],
   "source": []
  }
 ],
 "metadata": {
  "kernelspec": {
   "display_name": "Python [conda env:PythonData]",
   "language": "python",
   "name": "conda-env-PythonData-py"
  },
  "language_info": {
   "codemirror_mode": {
    "name": "ipython",
    "version": 3
   },
   "file_extension": ".py",
   "mimetype": "text/x-python",
   "name": "python",
   "nbconvert_exporter": "python",
   "pygments_lexer": "ipython3",
   "version": "3.6.1"
  }
 },
 "nbformat": 4,
 "nbformat_minor": 2
}
