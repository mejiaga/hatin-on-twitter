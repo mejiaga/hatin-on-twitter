{
 "cells": [
  {
   "cell_type": "code",
   "execution_count": null,
   "metadata": {
    "collapsed": true
   },
   "outputs": [],
   "source": [
    "import pandas as pd\n",
    "import requests as req\n",
    "import csv\n",
    "import json\n",
    "import codecs"
   ]
  },
  {
   "cell_type": "code",
   "execution_count": null,
   "metadata": {},
   "outputs": [],
   "source": [
    "file_path = \"Resources/national_places.csv\""
   ]
  },
  {
   "cell_type": "code",
   "execution_count": null,
   "metadata": {},
   "outputs": [],
   "source": [
    "# Lists of data\n",
    "state = []\n",
    "state_fp = []\n",
    "place_fp = []\n",
    "place_name = []\n",
    "county = []\n",
    "\n",
    "with open(file_path, 'r', encoding='utf-8', errors='ignore') as fdata:\n",
    "    national_places = csv.DictReader(fdata)\n",
    "    \n",
    "    for row in national_places:\n",
    "        state.append(row['STATE'])\n",
    "        state_fp.append(row['STATEFP'])\n",
    "        place_fp.append(row['PLACEFP'])\n",
    "        place_name.append(row['PLACENAME'])\n",
    "        county.append(row['COUNTY'])"
   ]
  },
  {
   "cell_type": "code",
   "execution_count": null,
   "metadata": {
    "collapsed": true
   },
   "outputs": [],
   "source": []
  }
 ],
 "metadata": {
  "kernelspec": {
   "display_name": "Python [conda env:PythonData]",
   "language": "python",
   "name": "conda-env-PythonData-py"
  },
  "language_info": {
   "codemirror_mode": {
    "name": "ipython",
    "version": 3
   },
   "file_extension": ".py",
   "mimetype": "text/x-python",
   "name": "python",
   "nbconvert_exporter": "python",
   "pygments_lexer": "ipython3",
   "version": "3.6.1"
  }
 },
 "nbformat": 4,
 "nbformat_minor": 2
}
